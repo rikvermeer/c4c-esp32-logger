{
 "cells": [
  {
   "cell_type": "code",
   "execution_count": 160,
   "metadata": {},
   "outputs": [
    {
     "name": "stdout",
     "output_type": "stream",
     "text": [
      "\u001b[32m\n",
      " ** Serial connected **\n",
      "\n",
      "\u001b[0m"
     ]
    },
    {
     "name": "stderr",
     "output_type": "stream",
     "text": [
      "INFO:micropython-upydevice:Device esp32 connected in /dev/cu.usbserial-0001\n"
     ]
    },
    {
     "name": "stdout",
     "output_type": "stream",
     "text": [
      "SerialDevice @ /dev/cu.usbserial-0001, Type: esp32, Class: SerialDevice\n",
      "Firmware: MicroPython v1.17-dirty on 2022-01-10; 4MB/OTA module (lvl-up) with ESP32\n",
      "CP2102 USB to UART Bridge Controller, Manufacturer: Silicon Labs\n",
      "(MAC: 08:3a:f2:aa:84:5c)\n",
      "\n",
      "MicroPython v1.17-dirty on 2022-01-10; 4MB/OTA module (lvl-up) with ESP32\n",
      "Type \"help()\" for more information.\n"
     ]
    }
   ],
   "source": [
    "%serialconnect /dev/cu.usbserial-0001 115200"
   ]
  },
  {
   "cell_type": "code",
   "execution_count": 99,
   "metadata": {},
   "outputs": [
    {
     "name": "stdout",
     "output_type": "stream",
     "text": [
      "Traceback (most recent call last):\n",
      "  File \"<stdin>\", line 7, in <module>\n",
      "TypeError: function takes 3 positional arguments but 2 were given\n",
      ">>> "
     ]
    }
   ],
   "source": [
    "from esp32 import NVS\n",
    "\n",
    "nvs = NVS('lvlup')\n",
    "nvs.get_blob('wifi_ssid')\n",
    "#struct.pack_into"
   ]
  },
  {
   "cell_type": "code",
   "execution_count": 100,
   "metadata": {},
   "outputs": [
    {
     "name": "stdout",
     "output_type": "stream",
     "text": [
      ">>> \n",
      ">>>"
     ]
    }
   ],
   "source": [
    "nvs.set_blob('mqtt_server', 'c4c.lvl-up.dev')\n",
    "nvs.set_blob('mqtt_user', 'care4coffee')\n",
    "nvs.set_blob('mqtt_pass', '~%4&L72`j:cDEf.]')\n",
    "nvs.set_blob('mqtt_ch_cmd', 'commands')\n",
    "nvs.set_blob('mqtt_ch_orders', 'orders')\n",
    "\n",
    "nvs.set_blob('wifi_ssid', 'Stichting De Melkweg')\n",
    "nvs.set_blob('wifi_psk', 'melkweggast')\n",
    "\n",
    "nvs.commit()"
   ]
  },
  {
   "cell_type": "code",
   "execution_count": 30,
   "metadata": {},
   "outputs": [
    {
     "name": "stdout",
     "output_type": "stream",
     "text": [
      "'test'\n",
      "\n"
     ]
    }
   ],
   "source": [
    "ba = bytearray(32)\n",
    "nr = nvs.get_blob('test', ba)\n",
    "value = ba[:nr].decode()\n",
    "value"
   ]
  },
  {
   "cell_type": "code",
   "execution_count": 47,
   "metadata": {},
   "outputs": [
    {
     "name": "stdout",
     "output_type": "stream",
     "text": [
      "loading config file /config/default.json\n",
      "Committing:  config 147 \n",
      " {\"wifiPSK\": \"melkweggast\", \"tls_params\": {}, \"tls\": true, \"host\": \"c4c.lvl-up.dev\", \"server\": \"c4c.lvl-up.dev\", \"wifiSSID\": \"Stichting De Melkweg\"}\n",
      "Traceback (most recent call last):\n",
      "  File \"<stdin>\", line 5, in <module>\n",
      "TypeError: function takes 3 positional arguments but 2 were given"
     ]
    }
   ],
   "source": [
    "from main.config import Config\n",
    "cfg = Config()\n",
    "cfg.get_blob('wifi_ssid')"
   ]
  },
  {
   "cell_type": "code",
   "execution_count": 187,
   "metadata": {},
   "outputs": [
    {
     "name": "stdout",
     "output_type": "stream",
     "text": [
      "ets Jun  8 2016 00:22:57\n",
      "\n",
      "rst:0xc (SW_CPU_RESET),boot:0x13 (SPI_FAST_FLASH_BOOT)\n",
      "configsip: 0, SPIWP:0xee\n",
      "clk_drv:0x00,q_drv:0x00,d_drv:0x00,cs0_drv:0x00,hd_drv:0x00,wp_drv:0x00\n",
      "mode:DIO, clock div:2\n",
      "load:0x3fff0030,len:5440load:0x40078000,len:14404\n",
      "ho 0 tail 12 room 4\n",
      "load:0x40080400,len:3456\n",
      "entry 0x40080638Started webrepl in normal mode\n",
      "MicroPython v1.17-dirty on 2022-01-10; 4MB/OTA module (lvl-up) with ESP32\n",
      "Type \"help()\" for more information."
     ]
    }
   ],
   "source": [
    "from machine import reset\n",
    "reset()"
   ]
  },
  {
   "cell_type": "code",
   "execution_count": 103,
   "metadata": {},
   "outputs": [
    {
     "name": "stdout",
     "output_type": "stream",
     "text": [
      ">>> "
     ]
    }
   ],
   "source": [
    "import gc\n",
    "gc.collect()"
   ]
  },
  {
   "cell_type": "code",
   "execution_count": 112,
   "metadata": {},
   "outputs": [
    {
     "name": "stdout",
     "output_type": "stream",
     "text": [
      "1000 False ('0.0.0.0', '0.0.0.0', '0.0.0.0', '0.0.0.0')\n",
      "\n",
      ">>>"
     ]
    }
   ],
   "source": [
    "from network import WLAN, STA_IF\n",
    "wlan = WLAN(STA_IF)\n",
    "print(wlan.status(), wlan.isconnected(), wlan.ifconfig())"
   ]
  },
  {
   "cell_type": "code",
   "execution_count": 188,
   "metadata": {},
   "outputs": [
    {
     "name": "stdout",
     "output_type": "stream",
     "text": [
      "True 1000 ('0.0.0.0', '0.0.0.0', '0.0.0.0', '0.0.0.0')\n",
      "Stichting De Melkweg melkweggast\n",
      "Connecting\n",
      "True 1010 ('192.168.1.95', '255.255.255.0', '192.168.1.1', '192.168.1.2')\n",
      "Stichting De Melkweg melkweggast\n",
      "Connecting\n",
      "calback:  b'\\x01\\x01'\n",
      "order b'\\x06'\n",
      "Not connected\n",
      "calback:  b'\\x01\\x01'\n",
      "order b'\\x01'\n",
      "Not connected\n",
      "calback:  b'\\x01\\x01'order b'\\x02'\n",
      "Not connected\n",
      "calback:  b'\\x01\\x01'\n",
      "order b'\\x06'\n",
      "Not connected\n",
      "calback:  b'\\x01\\x01'\n",
      "order b'\\x01'\n",
      "Not connectedcalback:  b'\\x01\\x01'\n",
      "order b'\\x02'\n",
      "Not connected\n",
      "calback:  b'\\x01\\x01'\n",
      "order b'\\x06'Not connected\n",
      "calback:  b'\\x01\\x01'\n",
      "order b'\\x01'\n",
      "Not connectedcalback:  b'\\x01\\x01'\n",
      "order b'\\x02'\n",
      "Not connected\n",
      "calback:  b'\\x01\\x01'\n",
      "order b'\\x06'\n",
      "Not connected\n",
      "calback:  b'\\x01\\x01'\n",
      "order b'\\x01'\n",
      "Not connected\n",
      "calback:  b'\\x01\\x01'order b'\\x02'\n",
      "Not connected\n",
      "calback:  b'\\x01\\x01'\n",
      "order b'\\x06'\n",
      "Not connected\n",
      "calback:  b'\\x01\\x01'\n",
      "order b'\\x01'\n",
      "Not connected\n",
      "calback:  b'\\x01\\x01'\n",
      "order b'\\x02'Not connected\n",
      "calback:  b'\\x01\\x01'\n",
      "order b'\\x06'\n",
      "Not connected\n",
      "calback:  b'\\x01\\x01'\n",
      "order b'\\x01'\n",
      "Not connected\n",
      "calback:  b'\\x01\\x01'\n",
      "order b'\\x02'\n",
      "Not connected\n",
      "calback:  b'\\x01\\x01'\n",
      "order b'\\x06'\n",
      "Not connected\n",
      "calback:  b'\\x01\\x01'\n",
      "order b'\\x01'\n",
      "Not connected\n",
      "calback:  b'\\x01\\x01'\n",
      "order b'\\x02'\n",
      "Not connectedcalback:  b'\\x01\\x01'\n",
      "order b'\\x06'\n",
      "Not connected\n",
      "calback:  b'\\x01\\x01'\n",
      "order b'\\x01'\n",
      "Not connected\n",
      "calback:  b'\\x01\\x01'\n",
      "order b'\\x02'\n",
      "Not connected\n",
      "calback:  b'\\x01\\x01'\n",
      "order b'\\x06'\n",
      "Not connected\n",
      "calback:  b'\\x01\\x01'\n",
      "order b'\\x01'\n",
      "Not connectedcalback:  b'\\x01\\x01'\n",
      "order b'\\x02'Not connected\n",
      "calback:  b'\\x01\\x01'\n",
      "order b'\\x06'Not connected\n",
      "calback:  b'\\x01\\x01'\n",
      "order b'\\x01'\n",
      "Not connected\n",
      "calback:  b'\\x01\\x01'\n",
      "order b'\\x02'\n",
      "Not connected\n",
      "calback:  b'\\x01\\x01'\n",
      "order b'\\x06'Not connected\n",
      "calback:  b'\\x01\\x01'\n",
      "order b'\\x01'\n",
      "Not connectedcalback:  b'\\x01\\x01'\n",
      "order b'\\x02'\n",
      "Not connected\n",
      "calback:  b'\\x01\\x01'\n",
      "order b'\\x06'\n",
      "Not connected\n",
      "calback:  b'\\x01\\x01'\n",
      "order b'\\x01'\n",
      "Not connected\n"
     ]
    },
    {
     "name": "stderr",
     "output_type": "stream",
     "text": [
      "Traceback (most recent call last):\n",
      "  File \"<stdin>\", line 109, in <module>\n",
      "  File \"uasyncio/core.py\", line 1, in run\n",
      "  File \"uasyncio/core.py\", line 1, in run_until_complete\n",
      "  File \"uasyncio/core.py\", line 1, in wait_io_event\n",
      "KeyboardInterrupt: \n",
      "\n",
      "\n"
     ]
    }
   ],
   "source": [
    "import uasyncio\n",
    "from machine import UART, Pin\n",
    "from mqtt_as import mqtt_as\n",
    "from esp32 import NVS\n",
    "from main.parser import Parser, Message\n",
    "#from network import WLAN, STA_IF\n",
    "#from binascii import hexlify\n",
    "from neopixel import NeoPixel\n",
    "\n",
    "np = NeoPixel(Pin(5), 4)\n",
    "np[0] = (0,128,0)\n",
    "#np.write()\n",
    "\n",
    "import gc\n",
    "gc.collect()\n",
    "\n",
    "#wlan = WLAN(STA_IF)\n",
    "#client_id = str(hexlify(unique_id()))\n",
    "\n",
    "nvs = NVS('lvlup')\n",
    "def get_config(key):\n",
    "    ba = bytearray(32)\n",
    "    nr = nvs.get_blob(key, ba)\n",
    "    return ba[:nr].decode()\n",
    "\n",
    "def subs_cb(obj):\n",
    "    print(obj)\n",
    "    \n",
    "config = mqtt_as.config\n",
    "config.update({\n",
    "    'server': get_config('mqtt_server'),\n",
    "    'user': get_config('mqtt_user'),\n",
    "    'password': get_config('mqtt_pass'),\n",
    "    'ssid': get_config('wifi_ssid'),\n",
    "    'wifi_pw': get_config('wifi_psk'),\n",
    "    'subs_cb': subs_cb\n",
    "})\n",
    "\n",
    "connected = False\n",
    "client = mqtt_as.MQTTClient(config)\n",
    "\n",
    "async def onmessage():\n",
    "    np[2] = (0,0,128)\n",
    "    #np.write()\n",
    "    await uasyncio.sleep_ms(10)\n",
    "    np[2] = (0,0,0)\n",
    "    #np.write()\n",
    "    \n",
    "async def onorder():\n",
    "    np[3] = (128,0,128)\n",
    "    #np.write()\n",
    "    await uasyncio.sleep_ms(2000)\n",
    "    np[3] = (0,0,0)\n",
    "    #np.write()\n",
    "    \n",
    "\n",
    "async def run():\n",
    "    try:\n",
    "        await uasyncio.create_task(client.wifi_connect())\n",
    "    except:\n",
    "        pass\n",
    "    try:\n",
    "        await uasyncio.create_task(client.connect())\n",
    "    except:\n",
    "        pass\n",
    "    \n",
    "    def cb(res):\n",
    "        #print('calback')\n",
    "        for msg in res:\n",
    "            print('calback: ', msg.msg_type)\n",
    "            if msg.msg_type == bytes([0x02, 0x01]):\n",
    "            #if msg.msg_type == bytes([0x01, 0x01]):\n",
    "                print('order', msg.body)\n",
    "                uasyncio.create_task(onorder())\n",
    "                #onorder()\n",
    "                if connected:\n",
    "                    uasyncio.create_task(client.publish('orders', 'test'))\n",
    "                else:\n",
    "                    print('Not connected')\n",
    "    parser = Parser(cb)\n",
    "    uam = UART(2, baudrate=38400, rx=27)\n",
    "    master = uasyncio.StreamReader(uam)\n",
    "    master.drain()\n",
    "    while True:\n",
    "        result = await master.read(32)\n",
    "        parser.append_chunk(result)\n",
    "        uasyncio.create_task(onmessage())\n",
    "        #await uasyncio.sleep_ms(10)\n",
    "\n",
    "async def led_writer():\n",
    "    while True:\n",
    "        np.write()\n",
    "        await uasyncio.sleep_ms(5)\n",
    "\n",
    "async def main():\n",
    "    gc.collect()\n",
    "    uasyncio.create_task(led_writer())\n",
    "    uasyncio.create_task(run())\n",
    "    \n",
    "    while True:\n",
    "        if client.isconnected():\n",
    "            np[1] = (0,128,0)\n",
    "            connected = True\n",
    "        else:\n",
    "            np[1] = (200,0,0)\n",
    "            connected = False            \n",
    "        await uasyncio.sleep_ms(500)\n",
    "        \n",
    "uasyncio.run(main())"
   ]
  },
  {
   "cell_type": "code",
   "execution_count": 162,
   "metadata": {},
   "outputs": [
    {
     "name": "stdout",
     "output_type": "stream",
     "text": [
      "booting Runner\n",
      "hello\n",
      "running network\n",
      "('192.168.1.95', '255.255.255.0', '192.168.1.1', '192.168.1.2')\n",
      "calback:  b'\\x01\\x01'order b'\\x06'\n",
      "calback:  b'\\x01\\x01'\n",
      "order b'\\x01'\n",
      "calback:  b'\\x01\\x01'\n",
      "order b'\\x02'\n",
      "calback:  b'\\x01\\x01'\n",
      "order b'\\x06'\n",
      "calback:  b'\\x01\\x01'\n",
      "order b'\\x01'\n",
      "calback:  b'\\x01\\x01'\n",
      "order b'\\x02'\n",
      "calback:  b'\\x01\\x01'\n",
      "order b'\\x06'calback:  b'\\x01\\x01'order b'\\x01'\n",
      "calback:  b'\\x01\\x01'\n",
      "order b'\\x02'\n",
      "calback:  b'\\x01\\x01'\n",
      "order b'\\x06'\n",
      "calback:  b'\\x01\\x01'\n",
      "order b'\\x01'\n",
      "calback:  b'\\x01\\x01'\n",
      "order b'\\x02'\n",
      "calback:  b'\\x01\\x01'\n",
      "order b'\\x06'\n",
      "calback:  b'\\x01\\x01'\n",
      "order b'\\x01'\n",
      "calback:  b'\\x01\\x01'\n",
      "order b'\\x06'\n",
      "b'U\\x00\\x04\\x01\\x01\\x01\\x06\\t\\xaa'\n",
      "calback:  b'\\x01\\x01'\n",
      "order b'\\x01'\n",
      "b'U\\x00\\x04\\x01\\x01\\x01\\x01\\x04\\xaa'\n",
      "calback:  b'\\x01\\x01'\n",
      "order b'\\x02'\n",
      "b'U\\x00\\x04\\x01\\x01\\x01\\x02\\x05\\xaa'\n",
      "hello\n",
      "calback:  b'\\x01\\x01'order b'\\x06'\n",
      "b'U\\x00\\x04\\x01\\x01\\x01\\x06\\t\\xaa'\n",
      "calback:  b'\\x01\\x01'\n",
      "order b'\\x01'\n",
      "b'U\\x00\\x04\\x01\\x01\\x01\\x01\\x04\\xaa'\n",
      "('192.168.1.95', '255.255.255.0', '192.168.1.1', '192.168.1.2')\n",
      "calback:  b'\\x01\\x01'\n",
      "order b'\\x02'\n",
      "b'U\\x00\\x04\\x01\\x01\\x01\\x02\\x05\\xaa'\n",
      "hello\n",
      "calback:  b'\\x01\\x01'\n",
      "order b'\\x06'\n",
      "b'U\\x00\\x04\\x01\\x01\\x01\\x06\\t\\xaa'\n",
      "calback:  b'\\x01\\x01'\n",
      "order b'\\x01'\n",
      "b'U\\x00\\x04\\x01\\x01\\x01\\x01\\x04\\xaa'\n",
      "calback:  b'\\x01\\x01'\n",
      "order b'\\x02'\n",
      "b'U\\x00\\x04\\x01\\x01\\x01\\x02\\x05\\xaa'hello\n",
      "calback:  b'\\x01\\x01'\n",
      "order b'\\x06'\n",
      "b'U\\x00\\x04\\x01\\x01\\x01\\x06\\t\\xaa'\n",
      "('192.168.1.95', '255.255.255.0', '192.168.1.1', '192.168.1.2')\n",
      "calback:  b'\\x01\\x01'order b'\\x01'\n",
      "b'U\\x00\\x04\\x01\\x01\\x01\\x01\\x04\\xaa'\n",
      "calback:  b'\\x01\\x01'\n",
      "order b'\\x02'\n",
      "b'U\\x00\\x04\\x01\\x01\\x01\\x02\\x05\\xaa'\n",
      "hello\n",
      "calback:  b'\\x01\\x01'\n",
      "order b'\\x06'\n",
      "b'U\\x00\\x04\\x01\\x01\\x01\\x06\\t\\xaa'\n",
      "calback:  b'\\x01\\x01'\n",
      "order b'\\x01'\n",
      "b'U\\x00\\x04\\x01\\x01\\x01\\x01\\x04\\xaa'\n",
      "calback:  b'\\x01\\x01'\n",
      "order b'\\x02'\n",
      "b'U\\x00\\x04\\x01\\x01\\x01\\x02\\x05\\xaa'\n",
      "hello\n",
      "('192.168.1.95', '255.255.255.0', '192.168.1.1', '192.168.1.2')\n",
      "calback:  b'\\x01\\x01'\n",
      "order b'\\x06'\n",
      "b'U\\x00\\x04\\x01\\x01\\x01\\x06\\t\\xaa'\n",
      "calback:  b'\\x01\\x01'\n",
      "order b'\\x01'\n",
      "b'U\\x00\\x04\\x01\\x01\\x01\\x01\\x04\\xaa'\n",
      "calback:  b'\\x01\\x01'\n",
      "order b'\\x02'\n",
      "b'U\\x00\\x04\\x01\\x01\\x01\\x02\\x05\\xaa'\n",
      "hello\n",
      "calback:  b'\\x01\\x01'\n",
      "order b'\\x06'\n",
      "b'U\\x00\\x04\\x01\\x01\\x01\\x06\\t\\xaa'calback:  b'\\x01\\x01'\n",
      "order b'\\x01'\n",
      "b'U\\x00\\x04\\x01\\x01\\x01\\x01\\x04\\xaa'\n",
      "('192.168.1.95', '255.255.255.0', '192.168.1.1', '192.168.1.2')\n",
      "calback:  b'\\x01\\x01'\n",
      "order b'\\x02'\n",
      "b'U\\x00\\x04\\x01\\x01\\x01\\x02\\x05\\xaa'hello\n",
      "calback:  b'\\x01\\x01'order b'\\x06'\n",
      "b'U\\x00\\x04\\x01\\x01\\x01\\x06\\t\\xaa'\n",
      "calback:  b'\\x01\\x01'\n",
      "order b'\\x01'\n",
      "b'U\\x00\\x04\\x01\\x01\\x01\\x01\\x04\\xaa'calback:  b'\\x01\\x01'\n",
      "order b'\\x02'\n",
      "b'U\\x00\\x04\\x01\\x01\\x01\\x02\\x05\\xaa'\n",
      "hellocalback:  b'\\x01\\x01'\n",
      "order b'\\x06'\n",
      "b'U\\x00\\x04\\x01\\x01\\x01\\x06\\t\\xaa'\n",
      "('192.168.1.95', '255.255.255.0', '192.168.1.1', '192.168.1.2')\n",
      "calback:  b'\\x01\\x01'\n",
      "order b'\\x01'\n",
      "b'U\\x00\\x04\\x01\\x01\\x01\\x01\\x04\\xaa'\n",
      "calback:  b'\\x01\\x01'\n",
      "order b'\\x02'\n",
      "b'U\\x00\\x04\\x01\\x01\\x01\\x02\\x05\\xaa'\n",
      "hello\n",
      "calback:  b'\\x01\\x01'\n",
      "order b'\\x06'\n",
      "b'U\\x00\\x04\\x01\\x01\\x01\\x06\\t\\xaa'\n",
      "calback:  b'\\x01\\x01'\n",
      "order b'\\x01'\n",
      "b'U\\x00\\x04\\x01\\x01\\x01\\x01\\x04\\xaa'\n",
      "calback:  b'\\x01\\x01'\n",
      "order b'\\x02'\n",
      "b'U\\x00\\x04\\x01\\x01\\x01\\x02\\x05\\xaa'\n",
      "hello('192.168.1.95', '255.255.255.0', '192.168.1.1', '192.168.1.2')calback:  b'\\x01\\x01'order b'\\x06'\n",
      "b'U\\x00\\x04\\x01\\x01\\x01\\x06\\t\\xaa'\n",
      "calback:  b'\\x01\\x01'\n",
      "order b'\\x01'\n",
      "b'U\\x00\\x04\\x01\\x01\\x01\\x01\\x04\\xaa'\n",
      "calback:  b'\\x01\\x01'\n",
      "order b'\\x02'\n",
      "b'U\\x00\\x04\\x01\\x01\\x01\\x02\\x05\\xaa'\n",
      "hello\n",
      "calback:  b'\\x01\\x01'\n",
      "order b'\\x06'\n",
      "b'U\\x00\\x04\\x01\\x01\\x01\\x06\\t\\xaa'\n",
      "calback:  b'\\x01\\x01'\n",
      "order b'\\x01'\n",
      "b'U\\x00\\x04\\x01\\x01\\x01\\x01\\x04\\xaa'\n",
      "('192.168.1.95', '255.255.255.0', '192.168.1.1', '192.168.1.2')\n",
      "calback:  b'\\x01\\x01'\n",
      "order b'\\x02'\n",
      "b'U\\x00\\x04\\x01\\x01\\x01\\x02\\x05\\xaa'\n",
      "hello\n",
      "calback:  b'\\x01\\x01'\n",
      "order b'\\x06'\n",
      "b'U\\x00\\x04\\x01\\x01\\x01\\x06\\t\\xaa'\n",
      "calback:  b'\\x01\\x01'\n",
      "order b'\\x01'\n",
      "b'U\\x00\\x04\\x01\\x01\\x01\\x01\\x04\\xaa'\n",
      "calback:  b'\\x01\\x01'\n",
      "order b'\\x02'\n",
      "b'U\\x00\\x04\\x01\\x01\\x01\\x02\\x05\\xaa'\n",
      "hello\n",
      "calback:  b'\\x01\\x01'\n",
      "order b'\\x06'\n",
      "b'U\\x00\\x04\\x01\\x01\\x01\\x06\\t\\xaa'\n",
      "('192.168.1.95', '255.255.255.0', '192.168.1.1', '192.168.1.2')\n",
      "calback:  b'\\x01\\x01'\n",
      "order b'\\x01'b'U\\x00\\x04\\x01\\x01\\x01\\x01\\x04\\xaa'\n",
      "calback:  b'\\x01\\x01'\n",
      "order b'\\x02'\n",
      "b'U\\x00\\x04\\x01\\x01\\x01\\x02\\x05\\xaa'\n",
      "hello\n",
      "calback:  b'\\x01\\x01'\n",
      "order b'\\x06'\n",
      "b'U\\x00\\x04\\x01\\x01\\x01\\x06\\t\\xaa'\n",
      "calback:  b'\\x01\\x01'\n",
      "order b'\\x01'\n",
      "b'U\\x00\\x04\\x01\\x01\\x01\\x01\\x04\\xaa'\n",
      "calback:  b'\\x01\\x01'\n",
      "order b'\\x02'\n",
      "b'U\\x00\\x04\\x01\\x01\\x01\\x02\\x05\\xaa'\n",
      "hello\n",
      "('192.168.1.95', '255.255.255.0', '192.168.1.1', '192.168.1.2')\n",
      "calback:  b'\\x01\\x01'\n",
      "order b'\\x06'\n",
      "b'U\\x00\\x04\\x01\\x01\\x01\\x06\\t\\xaa'\n",
      "calback:  b'\\x01\\x01'\n",
      "order b'\\x01'\n",
      "b'U\\x00\\x04\\x01\\x01\\x01\\x01\\x04\\xaa'\n",
      "calback:  b'\\x01\\x01'\n",
      "order b'\\x02'\n",
      "b'U\\x00\\x04\\x01\\x01\\x01\\x02\\x05\\xaa'\n",
      "hello\n",
      "calback:  b'\\x01\\x01'\n",
      "order b'\\x06'\n",
      "b'U\\x00\\x04\\x01\\x01\\x01\\x06\\t\\xaa'\n",
      "calback:  b'\\x01\\x01'\n",
      "order b'\\x01'\n",
      "b'U\\x00\\x04\\x01\\x01\\x01\\x01\\x04\\xaa'\n",
      "('192.168.1.95', '255.255.255.0', '192.168.1.1', '192.168.1.2')\n",
      "calback:  b'\\x01\\x01'\n",
      "order b'\\x02'\n",
      "b'U\\x00\\x04\\x01\\x01\\x01\\x02\\x05\\xaa'\n",
      "hello\n"
     ]
    },
    {
     "name": "stderr",
     "output_type": "stream",
     "text": [
      "Traceback (most recent call last):\n",
      "  File \"<stdin>\", line 80, in <module>\n",
      "  File \"<stdin>\", line 75, in run\n",
      "  File \"uasyncio/core.py\", line 1, in run\n",
      "  File \"uasyncio/core.py\", line 1, in run_until_complete\n",
      "  File \"<stdin>\", line 49, in run_spystream\n",
      "  File \"main/parser.py\", line 52, in append_chunk\n",
      "  File \"main/parser.py\", line 62, in parse\n",
      "KeyboardInterrupt: \n",
      "\n",
      "\n"
     ]
    }
   ],
   "source": [
    "import uasyncio\n",
    "from machine import UART\n",
    "#from main.config import Config\n",
    "from main.spystream import GatedMasterSlaveSpy\n",
    "from main.parser import Parser, Message\n",
    "from uasyncio.stream import Stream\n",
    "from esp32 import NVS\n",
    "\n",
    "#gc.collect()\n",
    "\n",
    "#cfg = Config()\n",
    "nvs = NVS('lvlup')\n",
    "ba = bytearray(32)\n",
    "nr = nvs.get_blob('wifi_ssid', ba)\n",
    "wifi_ssid = ba[:nr].decode()\n",
    "nr = nvs.get_blob('wifi_psk', ba)\n",
    "wifi_psk = ba[:nr].decode()\n",
    "\n",
    "class Runner(object):\n",
    "    def __init__(self):\n",
    "        print('booting Runner')\n",
    "    async def run_network(self):\n",
    "        print('running network')\n",
    "        from network import WLAN, STA_IF\n",
    "        wlan = WLAN(STA_IF)\n",
    "        while True:\n",
    "            if not wlan.active():\n",
    "                wlan.active(True)\n",
    "            else:\n",
    "                if not wlan.isconnected():\n",
    "                    if wlan.status() != 1001: #STAT_CONNECTING\n",
    "                        wlan.connect(wifi_ssid, wifi_psk)\n",
    "                else:\n",
    "                    print(wlan.ifconfig())\n",
    "            await uasyncio.sleep_ms(1000)\n",
    "    async def run_spystream(self):\n",
    "        uam = UART(2, baudrate=38400, rx=27)\n",
    "        master = uasyncio.StreamReader(uam)\n",
    "        master.drain()\n",
    "        def cb(res):\n",
    "            for msg in res:\n",
    "                print('calback: ', msg.msg_type)\n",
    "                #if msg.msg_type == bytes([0x02, 0x01]):\n",
    "                if msg.msg_type == bytes([0x01, 0x01]):\n",
    "                    print('order', msg.body)\n",
    "        parser = Parser(cb)\n",
    "        while True:\n",
    "            result = await master.read(64)\n",
    "            parser.append_chunk(result)\n",
    "            print(result)\n",
    "        #spy = GatedMasterSlaveSpy(\n",
    "        #    Stream(UART(1, baudrate=38400, rx=26)),\n",
    "        #    Stream(UART(2, baudrate=38400, rx=27)), 4, 5)\n",
    "        #while True:\n",
    "        #    result = await spy.master_rxq.get()\n",
    "        #    print(result)\n",
    "    async def run_api(self):\n",
    "        pass\n",
    "    async def run_mqtt(self):\n",
    "        pass\n",
    "    async def run_forever(self):\n",
    "        while True:\n",
    "            print('hello')\n",
    "            await uasyncio.sleep_ms(500)\n",
    "\n",
    "async def main():\n",
    "    runner = Runner()  # Constructor creates tasks\n",
    "    uasyncio.create_task(runner.run_network())\n",
    "    uasyncio.create_task(runner.run_spystream())\n",
    "    await runner.run_forever()  # Never terminates\n",
    "\n",
    "def run():  # Entry point\n",
    "    while True:\n",
    "        try:\n",
    "            uasyncio.run(main())\n",
    "        finally:\n",
    "            uasyncio.new_event_loop()\n",
    "        \n",
    "\n",
    "run()"
   ]
  },
  {
   "cell_type": "code",
   "execution_count": 3,
   "metadata": {},
   "outputs": [
    {
     "name": "stdout",
     "output_type": "stream",
     "text": [
      "\u001b[31mDevice is not reachable.\u001b[0m"
     ]
    }
   ],
   "source": [
    "%websocketconnect --password test 192.168.1.80"
   ]
  },
  {
   "cell_type": "code",
   "execution_count": 23,
   "metadata": {},
   "outputs": [
    {
     "name": "stdout",
     "output_type": "stream",
     "text": [
      "Welcome to MicroPython on the ESP32!\n",
      "\n",
      "For generic online docs please visit http://docs.micropython.org/\n",
      "\n",
      "For access to the hardware use the 'machine' module:\n",
      "\n",
      "import machine\n",
      "pin12 = machine.Pin(12, machine.Pin.OUT)\n",
      "pin12.value(1)\n",
      "pin13 = machine.Pin(13, machine.Pin.IN, machine.Pin.PULL_UP)\n",
      "print(pin13.value())\n",
      "i2c = machine.I2C(scl=machine.Pin(21), sda=machine.Pin(22))\n",
      "i2c.scan()\n",
      "i2c.writeto(addr, b'1234')\n",
      "i2c.readfrom(addr, 4)\n",
      "\n",
      "Basic WiFi configuration:\n",
      "\n",
      "import network\n",
      "sta_if = network.WLAN(network.STA_IF); sta_if.active(True)\n",
      "sta_if.scan()                             # Scan for available access points\n",
      "sta_if.connect(\"<AP_name>\", \"<password>\") # Connect to an AP\n",
      "sta_if.isconnected()                      # Check for successful connection\n",
      "\n",
      "Control commands:\n",
      "  CTRL-A        -- on a blank line, enter raw REPL mode\n",
      "  CTRL-B        -- on a blank line, enter normal REPL mode\n",
      "  CTRL-C        -- interrupt a running program\n",
      "  CTRL-D        -- on a blank line, do a soft reset of the board\n",
      "  CTRL-E        -- on a blank line, enter paste mode\n",
      "\n",
      "For further help on a specific object, type help(obj)\n",
      "For a list of available modules, type help('modules')\n"
     ]
    }
   ],
   "source": [
    "help()"
   ]
  },
  {
   "cell_type": "code",
   "execution_count": 83,
   "metadata": {},
   "outputs": [
    {
     "name": "stdout",
     "output_type": "stream",
     "text": [
      "ets Jun  8 2016 00:22:57\n",
      "\n",
      "rst:0xc (SW_CPU_RESET),boot:0x13 (SPI_FAST_FLASH_BOOT)\n",
      "configsip: 0, SPIWP:0xee\n",
      "clk_drv:0x00,q_drv:0x00,d_drv:0x00,cs0_drv:0x00,hd_drv:0x00,wp_drv:0x00\n",
      "mode:DIO, clock div:2\n",
      "load:0x3fff0030,len:5440\n",
      "load:0x40078000,len:14404\n",
      "ho 0 tail 12 room 4\n",
      "load:0x40080400,len:3456\n",
      "entry 0x40080638\n",
      "Started webrepl in normal mode\n"
     ]
    },
    {
     "name": "stderr",
     "output_type": "stream",
     "text": [
      "Traceback (most recent call last):\n",
      "  File \"main.py\", line 1, in <module>\n",
      "ImportError: no module named 'secrets'\n",
      "MicroPython v1.17-dirty on 2021-10-11; 4MB/OTA module with ESP32\n",
      "Type \"help()\" for more information.\n"
     ]
    }
   ],
   "source": [
    "from machine import reset; reset()"
   ]
  },
  {
   "cell_type": "code",
   "execution_count": 5,
   "metadata": {},
   "outputs": [
    {
     "name": "stdout",
     "output_type": "stream",
     "text": [
      "\u001b[31mUnrecognized percentline ['%esptool --port=/dev/cu.usbserial-0001 115200']\n",
      "\u001b[0m\u001b[31mNo device connected\n",
      "\u001b[0m  %serialconnect or websocketconnect to connect\n",
      "  %lsmagic to list commands"
     ]
    }
   ],
   "source": [
    "%esptool --port=/dev/cu.usbserial-0001 115200"
   ]
  },
  {
   "cell_type": "code",
   "execution_count": 320,
   "metadata": {},
   "outputs": [
    {
     "name": "stdout",
     "output_type": "stream",
     "text": [
      "DEVICE: esp32_cu.usbserial-0001, SERIAL PORT: /dev/cu.usbserial-0001 , BAUDRATE: 115200,  ID: 083af2a8c85c\n",
      "SYSTEM NAME: esp32\n",
      "NODE NAME: esp32\n",
      "RELEASE: 1.17.0\n",
      "VERSION: v1.17-dirty on 2021-10-11\n",
      "MACHINE: 4MB/OTA module with ESP32\n"
     ]
    }
   ],
   "source": [
    "%whoami"
   ]
  },
  {
   "cell_type": "code",
   "execution_count": 323,
   "metadata": {},
   "outputs": [
    {
     "name": "stdout",
     "output_type": "stream",
     "text": [
      "object <function> is of type function<Partition type=1, subtype=129, address=3211264, size=983040, label=vfs, encrypted=0>\n"
     ]
    }
   ],
   "source": [
    "help(locals)\n",
    "locals()['bdev']"
   ]
  },
  {
   "cell_type": "markdown",
   "metadata": {},
   "source": [
    "### Imports\n"
   ]
  },
  {
   "cell_type": "code",
   "execution_count": 329,
   "metadata": {},
   "outputs": [
    {
     "name": "stdout",
     "output_type": "stream",
     "text": [
      "['umqtt']"
     ]
    }
   ],
   "source": [
    "import upip\n",
    "import os\n",
    "try:\n",
    "    print(os.listdir('/lib'))\n",
    "except:\n",
    "    os.mkdir('/lib')"
   ]
  },
  {
   "cell_type": "code",
   "execution_count": 7,
   "metadata": {},
   "outputs": [
    {
     "name": "stdout",
     "output_type": "stream",
     "text": [
      "%disconnect\n",
      "    disconnects device\n",
      "\n",
      "%lsmagic\n",
      "    list magic commands\n",
      "\n",
      "%rebootdevice\n",
      "    reboots device\n",
      "\n",
      "%is_reachable\n",
      "    Test if device is reachable (must be connected first)\n",
      "\n",
      "%serialconnect [-kbi] [portname] [baudrate]\n",
      "    connects to a device over USB, default baudrate is 115200\n",
      "\n",
      "%websocketconnect [--password PASSWORD] [-kbi] [-ssl] [websocketurl]\n",
      "    connects to the WebREPL over wifi (WebREPL daemon must be running)\n",
      "    websocketurl defaults to 192.168.4.1 (uri -> ws://192.168.4.1:8266)\n",
      "\n",
      "%bleconnect [bleaddress]\n",
      "    connects to the BleREPL over Bluetooth Low Energy(BleREPL must be running)\n",
      "\n",
      "%meminfo\n",
      "    Shows RAM size/used/free/use% info\n",
      "\n",
      "%whoami\n",
      "    Shows Device name, port, id, and system info\n",
      "\n",
      "%gccollect\n",
      "    To use the garbage collector and free some RAM if possible\n",
      "\n",
      "%local\n",
      "    To run the cell contents in local iPython\n",
      "\n",
      "%sync\n",
      "    To sync a variable/output data structure of the device into iPython \n",
      "    if no var name provided it stores the output into _\n",
      "\n",
      "%logdata [-fs FS] [-tm TM] [-u U [U ...]] [-s] v [v ...]\n",
      "    To log output data of the device into iPython, \n",
      "    data is stored in 'devlog'\n",
      "\n",
      "   positional arguments:\n",
      "      v             Name of variables\n",
      "   optional arguments:\n",
      "      -fs FS        Sampling frequency in Hz\n",
      "      -tm TM        Sampling timeout in ms\n",
      "      -u U [U ...]  Unit of variables\n",
      "      -s            Silent mode\n",
      "    \n",
      "%devplot\n",
      "    To plot devlog data\n",
      "\n"
     ]
    }
   ],
   "source": [
    "%lsmagic"
   ]
  },
  {
   "cell_type": "code",
   "execution_count": null,
   "metadata": {},
   "outputs": [],
   "source": [
    "%meminfo"
   ]
  },
  {
   "cell_type": "code",
   "execution_count": 178,
   "metadata": {},
   "outputs": [],
   "source": [
    "%gccollect"
   ]
  },
  {
   "cell_type": "markdown",
   "metadata": {},
   "source": [
    "## Watchdog timer\n",
    "https://docs.micropython.org/en/latest/library/machine.WDT.html#machine-wdt\n",
    "```\n",
    "from machine import WDT\n",
    "wdt = WDT(timeout=2000)  # enable it with a timeout of 2s\n",
    "wdt.feed()\n",
    "```\n",
    "\n",
    "Use the watchdog timer for resetting the device when in a unrecoverable state. Feed the wdt every x seconds to keep the device from rebooting"
   ]
  },
  {
   "cell_type": "code",
   "execution_count": 3,
   "metadata": {},
   "outputs": [],
   "source": [
    "from binascii import hexlify\n",
    "from random import randrange"
   ]
  },
  {
   "cell_type": "markdown",
   "metadata": {},
   "source": [
    "### Messages and Recipies"
   ]
  },
  {
   "cell_type": "code",
   "execution_count": 4,
   "metadata": {},
   "outputs": [],
   "source": [
    "header = bytes([0x55, 0x00])\n",
    "order_header = bytes([0x27, 0x02, 0x01, 0x24])\n",
    "footer = bytes([0xAA])\n",
    "\n",
    "recipies = {\n",
    "    \"HOT_WATER\": bytearray([0x55, 0x00, 0x27, 0x02, 0x01, 0x24, 0x06, 0x05, 0x00, 0x00, 0x00, 0x00, 0x00, 0xB4, 0x00, 0x00, 0x00, 0x00, 0x00, 0x00, 0x00, 0x00, 0x00, 0x00, 0x00, 0x00, 0x00, 0x00, 0x00, 0x00, 0x00, 0x00, 0x00, 0x00, 0x00, 0x00, 0x00, 0x00, 0x00, 0x00, 0x00, 0x00, 0xE6, 0xAA]),\n",
    "    \"CAFE_CREME\": bytearray([0x55, 0x00, 0x27, 0x02, 0x01, 0x24, 0x04, 0x04, 0x00, 0x00, 0x00, 0x00, 0x00, 0x78, 0x00, 0x78, 0x00, 0x5B, 0x00, 0x00, 0x00, 0x00, 0x00, 0x00, 0x00, 0x00, 0x00, 0x00, 0x00, 0x00, 0x00, 0x00, 0x00, 0x00, 0x00, 0x00, 0x00, 0x00, 0x24, 0x00, 0x00, 0x00, 0x9E, 0xAA]),\n",
    "    \"ESPRESSO\": bytearray([0x55, 0x00, 0x27, 0x02, 0x01, 0x24, 0x04, 0x04, 0x00, 0x00, 0x00, 0x00, 0x00, 0x32, 0x00, 0x32, 0x00, 0x5F, 0x07, 0x1E, 0x00, 0x00, 0x00, 0x00, 0x00, 0x00, 0x00, 0x00, 0x00, 0x00, 0x00, 0x00, 0x00, 0x00, 0x00, 0x00, 0x00, 0x00, 0x24, 0x00, 0x00, 0x00, 0x3B, 0xAA]),\n",
    "    \"DBL_ESPRESSO\": bytearray([0x55, 0x00, 0x27, 0x02, 0x01, 0x24, 0x04, 0x04, 0x00, 0x00, 0x00, 0x00, 0x00, 0x64, 0x00, 0x64, 0x00, 0x82, 0x00, 0x00, 0x00, 0x00, 0x00, 0x00, 0x00, 0x00, 0x00, 0x00, 0x00, 0x00, 0x00, 0x00, 0x00, 0x00, 0x00, 0x00, 0x00, 0x00, 0x24, 0x00, 0x00, 0x00, 0x9D, 0xAA]),\n",
    "    \"CAPPUCCHINO\": bytearray([0x55, 0x00, 0x27, 0x02, 0x01, 0x24, 0x04, 0x01, 0x01, 0x04, 0x00, 0x00, 0x00, 0x6E, 0x00, 0x32, 0x00, 0x58, 0x0A, 0x1E, 0x00, 0x3C, 0x2D, 0x00, 0x00, 0x00, 0x00, 0x00, 0x00, 0x00, 0x00, 0x00, 0x00, 0x00, 0x00, 0x00, 0x04, 0x00, 0x24, 0x00, 0x21, 0x00, 0x03, 0xAA]),\n",
    "    \"LATE_MACCHIATO\": bytearray([0x55, 0x00, 0x27, 0x02, 0x01, 0x24, 0x04, 0x01, 0x04, 0x00, 0x00, 0x00, 0x00, 0x78, 0x00, 0x28, 0x00, 0x50, 0x07, 0x4B, 0x00, 0x78, 0x3C, 0x00, 0x00, 0x00, 0x00, 0x00, 0x00, 0x00, 0x00, 0x00, 0x00, 0x00, 0x00, 0x00, 0x0A, 0x00, 0x24, 0x00, 0x21, 0x00, 0x75, 0xAA]),\n",
    "    \"CHOCOLADE\": bytearray([0x55, 0x00, 0x27, 0x02, 0x01, 0x24, 0x06, 0x02, 0x00, 0x00, 0x00, 0x00, 0x00, 0x78, 0x00, 0x00, 0x00, 0x00, 0x00, 0x00, 0x00, 0x1E, 0x1E, 0x05, 0x00, 0xBE, 0x4C, 0x00, 0x00, 0x00, 0x00, 0x00, 0x00, 0x00, 0x00, 0x00, 0x03, 0x00, 0x22, 0x00, 0x01, 0x00, 0x18, 0xAA]),\n",
    "}\n",
    "recipe_stream = memoryview(recipies[\"HOT_WATER\"] + recipies[\"CAFE_CREME\"] + recipies[\"ESPRESSO\"] + recipies[\"DBL_ESPRESSO\"] + recipies[\"CAPPUCCHINO\"] + recipies[\"LATE_MACCHIATO\"] + recipies[\"CHOCOLADE\"])\n",
    "ok_response = []\n",
    "nok_response = []\n",
    "cancel = []"
   ]
  },
  {
   "cell_type": "code",
   "execution_count": null,
   "metadata": {},
   "outputs": [],
   "source": [
    "#[0x55, 0x00,                  header(2)\n",
    "# 0x27,                        msg_length(1) 0x27 = 39\n",
    "# 0x02, 0x01,                  msg_type(2)\n",
    "# 0x24,                        body_length(1) 0x24 = 36\n",
    "\n",
    "# 0x06, 0x02, 0x00, 0x00, \n",
    "# 0x00, 0x00, 0x00, 0x78, 0x00, \n",
    "# 0x00, 0x00, 0x00, 0x00, 0x00, \n",
    "# 0x00, 0x1E, 0x1E, 0x05, 0x00, \n",
    "# 0xBE, 0x4C, 0x00, 0x00, 0x00, \n",
    "# 0x00, 0x00, 0x00, 0x00, 0x00, \n",
    "# 0x00, 0x03, 0x00, 0x22, 0x00, \n",
    "# 0x01, 0x00,\n",
    "\n",
    "# 0x18,                         checksum(1) cut header, cut footer, skip msg_length, sum up % 256 = checksum\n",
    "# 0xAA]                         footer(1)\n",
    "# Total length = 44, 0x27=39 0x24=36\n",
    "#[header([0x55, 0x00]), msg_length([0x27]), msg_type([0x02, 0x01]), msg_part_length([0x24]), ]\n",
    "#[header([0x55, 0x00]), msg_length([39]), msg_type([0x02, 0x01]), msg_part_length([0x24]), ]"
   ]
  },
  {
   "cell_type": "markdown",
   "metadata": {},
   "source": [
    "## REPL\n",
    "https://docs.micropython.org/en/latest/esp8266/quickref.html?highlight=ntp#uart-serial-bus\n",
    "\n",
    "**Detach REPL**\n",
    "```\n",
    "import os\n",
    "os.dupterm(None, 1)\n",
    "```\n",
    "\n",
    "**Attach REPL**\n",
    "```\n",
    "import os, machine\n",
    "uart = machine.UART(0, 115200)\n",
    "os.dupterm(uart, 1)\n",
    "```"
   ]
  },
  {
   "cell_type": "code",
   "execution_count": 63,
   "metadata": {},
   "outputs": [
    {
     "name": "stdout",
     "output_type": "stream",
     "text": [
      "UART(1, baudrate=115201, bits=8, parity=None, stop=1, tx=10, rx=9, rts=-1, cts=-1, txbuf=256, rxbuf=256, timeout=0, timeout_char=1)\n",
      "Traceback (most recent call last):\n",
      "  File \"<stdin>\", line 4, in <module>\n",
      "ValueError: invalid dupterm index\n",
      "\n",
      ">>>"
     ]
    }
   ],
   "source": [
    "import os, machine, time\n",
    "os.dupterm(None, 0)\n",
    "uart1 = machine.UART(1,baudrate=115200)\n",
    "os.dupterm(uart1, 1)\n",
    "while True:\n",
    "    print(uart1.read())\n",
    "    time.sleep(.1)\n",
    "    a = uart1.write(b\"test\")"
   ]
  },
  {
   "cell_type": "code",
   "execution_count": 18,
   "metadata": {},
   "outputs": [
    {
     "name": "stdout",
     "output_type": "stream",
     "text": [
      "'<function reatt\n",
      "\n",
      "*** OSError *** \n",
      "\n",
      "\n",
      " 'utf-8' codec can't decode byte 0xf8 in position 8: invalid start byte \n",
      "\u001b[31m\n",
      "\n",
      "*** Connection broken ***\n",
      "\u001b[0mYou may need to reconnect"
     ]
    }
   ],
   "source": [
    "from main.reattach_repl import reattach\n",
    "repr(reattach)\n",
    "reattach()"
   ]
  },
  {
   "cell_type": "markdown",
   "metadata": {},
   "source": [
    "# Date & time\n",
    "Since there is no battery in the ESP32 the clock is reset on boot to:\n",
    "\n",
    "January first 2020, which is on a friday(weekday = 5) 00:00:00.000000\n",
    "\n",
    "This implicates we can't be sure of a correct time when working offline, unless a battery is used.\n",
    "Possibility here is to update the latest time into flash memory:\n",
    "- after NTP detection\n",
    "- after x minutes\n",
    "And to load it into RTC when NTP fails"
   ]
  },
  {
   "cell_type": "code",
   "execution_count": 381,
   "metadata": {},
   "outputs": [
    {
     "name": "stdout",
     "output_type": "stream",
     "text": [
      "object <class 'RTC'> is of type type\n",
      "  init -- <function>\n",
      "  datetime -- <function>\n",
      "  memory -- <function>\n",
      "object <RTC> is of type RTC\n",
      "  init -- <function>  datetime -- <function>\n",
      "  memory -- <function>\n",
      "(2021, 10, 21, 3, 13, 58, 50, 589276)\n",
      ">>> "
     ]
    }
   ],
   "source": [
    "import machine\n",
    "help(machine.RTC)\n",
    "rtc = machine.RTC()\n",
    "help(rtc)\n",
    "#rtc.now()\n",
    "rtc.datetime()"
   ]
  },
  {
   "cell_type": "code",
   "execution_count": 379,
   "metadata": {},
   "outputs": [
    {
     "name": "stdout",
     "output_type": "stream",
     "text": [
      "(2021, 10, 21, 3, 13, 58, 25, 196)\n",
      "\n"
     ]
    }
   ],
   "source": [
    "import ntptime\n",
    "ntptime.settime() # set the rtc datetime from the remote server\n",
    "rtc.datetime()    # get the date and time in UTC"
   ]
  },
  {
   "cell_type": "code",
   "execution_count": 29,
   "metadata": {},
   "outputs": [
    {
     "name": "stdout",
     "output_type": "stream",
     "text": [
      "\n",
      "Reading dt from NVS...\n",
      "Read dt from NVS: (2021, 10, 21, 3, 15, 5, 45, 12436)\n",
      "Stored dt to NVS:  (2021, 10, 21, 3, 15, 5, 45, 14422)\n",
      "WiFi NOT connected, NTP not available\n",
      "Stored dt to NVS:  (2021, 10, 21, 3, 15, 5, 50, 20534)\n",
      "Stored dt to NVS:  (2021, 10, 21, 3, 15, 5, 55, 31113)\n",
      "Stored dt to NVS:  (2021, 10, 21, 3, 15, 6, 0, 41219)\n",
      "WiFi NOT connected, NTP not available\n",
      "Stored dt to NVS:  (2021, 10, 21, 3, 15, 6, 5, 53656)\n",
      "Stored dt to NVS:  (2021, 10, 21, 3, 15, 6, 10, 61266)\n",
      "Stored dt to NVS:  (2021, 10, 21, 3, 15, 6, 15, 71162)\n",
      "Stored dt to NVS:  (2021, 10, 21, 3, 15, 6, 20, 81162)\n",
      "WiFi NOT connected, NTP not available\n",
      "Stored dt to NVS:  (2021, 10, 21, 3, 15, 6, 25, 91545)\n",
      "Stored dt to NVS:  (2021, 10, 21, 3, 15, 6, 30, 101455)\n",
      "Stored dt to NVS:  (2021, 10, 21, 3, 15, 6, 35, 111378)\n",
      "Stored dt to NVS:  (2021, 10, 21, 3, 15, 6, 40, 121343)\n"
     ]
    },
    {
     "name": "stderr",
     "output_type": "stream",
     "text": [
      "Traceback (most recent call last):\n",
      "  File \"<stdin>\", line 75, in <module>\n",
      "  File \"uasyncio/core.py\", line 1, in run\n",
      "  File \"uasyncio/core.py\", line 1, in run_until_complete\n",
      "  File \"<stdin>\", line 74, in testtime\n",
      "KeyboardInterrupt: \n",
      "\n",
      "\n"
     ]
    }
   ],
   "source": [
    "import uasyncio\n",
    "from esp32 import NVS\n",
    "from machine import RTC\n",
    "from network import WLAN\n",
    "from network import STA_IF\n",
    "from ntptime import settime as settimeFromNTP\n",
    "\n",
    "nvs = NVS('lvlup')\n",
    "rtc = RTC()\n",
    "sta_if = WLAN(STA_IF)\n",
    "\n",
    "\n",
    "class TimeKeeper(object):\n",
    "    def __init__(self, delay_seconds):\n",
    "        self.loadRTCfromNVS()\n",
    "        self.task = uasyncio.create_task(self.storeRTCtoNVSEvery(delay_seconds))\n",
    "    \n",
    "    def loadRTCfromNVS(self):\n",
    "        print(\"Reading dt from NVS...\")\n",
    "        try:\n",
    "            dt_year = nvs.get_i32('dt_year')\n",
    "            dt_month = nvs.get_i32('dt_month')\n",
    "            dt_day = nvs.get_i32('dt_day')\n",
    "            dt_weekday = nvs.get_i32('dt_weekday')\n",
    "            dt_hour = nvs.get_i32('dt_hour')\n",
    "            dt_minute = nvs.get_i32('dt_minute')\n",
    "            dt_second = nvs.get_i32('dt_second')\n",
    "            dt_microsecond = nvs.get_i32('dt_microsecond')\n",
    "            dt = (dt_year, dt_month, dt_day, dt_weekday, dt_hour, dt_minute, dt_second, dt_microsecond)\n",
    "            rtc.datetime(dt)\n",
    "            print(\"Read dt from NVS:\", dt)\n",
    "        except Exception as e:\n",
    "            print(\"Time could not be retrieved\", e)\n",
    "            pass\n",
    "    \n",
    "    async def storeRTCtoNVSEvery(self, delay_seconds):\n",
    "        while True:\n",
    "            dt = rtc.datetime()\n",
    "            try:\n",
    "                nvs.set_i32('dt_year', dt[0])\n",
    "                nvs.set_i32('dt_month', dt[1])\n",
    "                nvs.set_i32('dt_day', dt[2])\n",
    "                nvs.set_i32('dt_weekday', dt[3])\n",
    "                nvs.set_i32('dt_hour', dt[4])\n",
    "                nvs.set_i32('dt_minute', dt[5])\n",
    "                nvs.set_i32('dt_second', dt[6])\n",
    "                nvs.set_i32('dt_microsecond', dt[7])\n",
    "                print(\"Stored dt to NVS: \", dt)\n",
    "            except Exception as e:\n",
    "                print(\"Time could not be stored\", e)\n",
    "                pass\n",
    "            await uasyncio.sleep(delay_seconds)\n",
    "            \n",
    "class NTPTimerKeeper(TimeKeeper):\n",
    "    ntpTask = None\n",
    "    \n",
    "    def __init__(self, delay_write_seconds, delay_ntp_seconds):\n",
    "        super().__init__(delay_write_seconds)\n",
    "        self.ntpTask = uasyncio.create_task(self.readFromNTP(delay_ntp_seconds))\n",
    "        \n",
    "    async def readFromNTP(self, delay_seconds):\n",
    "        while True:\n",
    "            if sta_if.isconnected():\n",
    "                print(\"WiFi connected, reading time from NTP\")\n",
    "                settimeFromNTP()\n",
    "            else:\n",
    "                print(\"WiFi NOT connected, NTP not available\")\n",
    "            await uasyncio.sleep(delay_seconds)\n",
    "\n",
    "async def testtime():\n",
    "    #self running\n",
    "    tc = NTPTimerKeeper(5, 20)\n",
    "    while True:\n",
    "        await uasyncio.sleep(0)\n",
    "uasyncio.run(testtime())\n"
   ]
  },
  {
   "cell_type": "code",
   "execution_count": 173,
   "metadata": {},
   "outputs": [
    {
     "name": "stdout",
     "output_type": "stream",
     "text": [
      "\u001b[32m\n",
      " ** Serial connected **\n",
      "\n",
      "\u001b[0m"
     ]
    },
    {
     "name": "stderr",
     "output_type": "stream",
     "text": [
      "INFO:micropython-upydevice:Device esp32 connected in /dev/cu.usbserial-0001\n"
     ]
    },
    {
     "name": "stdout",
     "output_type": "stream",
     "text": [
      "SerialDevice @ /dev/cu.usbserial-0001, Type: esp32, Class: SerialDevice\n",
      "Firmware: MicroPython v1.17-dirty on 2021-10-11; 4MB/OTA module with ESP32\n",
      "CP2102 USB to UART Bridge Controller, Manufacturer: Silicon Labs\n",
      "(MAC: 08:3a:f2:a8:c8:5c)\n",
      "\n",
      "MicroPython v1.17-dirty on 2021-10-11; 4MB/OTA module with ESP32\n",
      "Type \"help()\" for more information.\n"
     ]
    }
   ],
   "source": [
    "%serialconnect /dev/cu.usbserial-0001 115200"
   ]
  },
  {
   "cell_type": "code",
   "execution_count": 170,
   "metadata": {},
   "outputs": [
    {
     "name": "stdout",
     "output_type": "stream",
     "text": [
      "ets Jun  8 2016 00:22:57\n",
      "rst:0xc (SW_CPU_RESET),boot:0x13 (SPI_FAST_FLASH_BOOT)configsip: 0, SPIWP:0xee\n",
      "clk_drv:0x00,q_drv:0x00,d_drv:0x00,cs0_drv:0x00,hd_drv:0x00,wp_drv:0x00\n",
      "mode:DIO, clock div:2\n",
      "load:0x3fff0030,len:5440\n",
      "load:0x40078000,len:14404\n",
      "ho 0 tail 12 room 4load:0x40080400,len:3456\n",
      "entry 0x40080638\n",
      "Started webrepl in normal mode\n",
      "Traceback (most recent call last):\n",
      "  File \"main.py\", line 1, in <module>\n",
      "ImportError: no module named 'secrets'\n",
      "MicroPython v1.17-dirty on 2021-10-11; 4MB/OTA module with ESP32\n",
      "Type \"help()\" for more information."
     ]
    }
   ],
   "source": [
    "import machine\n",
    "machine.reset()"
   ]
  },
  {
   "cell_type": "markdown",
   "metadata": {},
   "source": [
    "### uasyncio Messages"
   ]
  },
  {
   "cell_type": "code",
   "execution_count": 11,
   "metadata": {},
   "outputs": [
    {
     "name": "stdout",
     "output_type": "stream",
     "text": [
      "                msSpy._master.tx_cts.is_set(), \n",
      "                msSpy._master._writedata.is_set(), \n",
      "                msSpy._master._writewait.is_set(), \n",
      "                msSpy._master._writing.is_set()))\n",
      "        await sleep_ms(10)\n",
      "        print(\"SLAVE EVENTS:\\nReading: {}, Clear to send: {}, Write data available: {}, Waiting to write: {}, Writing: {}\".format(\n",
      "                msSpy._slave._reading.is_set(), \n",
      "                msSpy._slave.tx_cts.is_set(), \n",
      "                msSpy._slave._writedata.is_set(), \n",
      "                msSpy._slave._writewait.is_set(), \n",
      "                msSpy._slave._writing.is_set()))\n",
      "        await sleep_ms(10)\n",
      "        print('------------')\n",
      "        await sleep_ms(1000)\n",
      "        gc.collect()\n",
      "\n",
      "import gc\n",
      "\n",
      "\n",
      "try:\n",
      "    run(runner())\n",
      "except KeyboardInterrupt:\n",
      "    print('Interrupted')\n",
      "finally:\n",
      "    loop = new_event_loop()\n",
      "\n",
      "SpyStream.__init__\n",
      "SpyStream.__init__\n",
      "MASTER EVENTS:\n",
      "Reading: False, Clear to send: False, Write data available: False, Waiting to write: False, Writing: False\n",
      "SLAVE EVENTS:\n",
      "Reading: False, Clear to send: True, Write data available: False, Waiting to write: False, Writing: False\n",
      "------------MASTER EVENTS:\n",
      "Reading: False, Clear to send: True, Write data available: False, Waiting to write: False, Writing: False\n",
      "SLAVE EVENTS:\n",
      "Reading: False, Clear to send: False, Write data available: False, Waiting to write: False, Writing: False\n",
      "------------\n",
      "MASTER EVENTS:\n",
      "Reading: False, Clear to send: True, Write data available: False, Waiting to write: False, Writing: False\n",
      "SLAVE EVENTS:Reading: False, Clear to send: True, Write data available: False, Waiting to write: False, Writing: False\n",
      "------------\n",
      "MASTER EVENTS:\n",
      "Reading: False, Clear to send: True, Write data available: False, Waiting to write: False, Writing: False\n",
      "SLAVE EVENTS:\n",
      "Reading: False, Clear to send: True, Write data available: False, Waiting to write: False, Writing: False\n",
      "------------\n",
      "MASTER EVENTS:\n",
      "Reading: False, Clear to send: True, Write data available: False, Waiting to write: False, Writing: False\n",
      "SLAVE EVENTS:\n",
      "Reading: False, Clear to send: True, Write data available: False, Waiting to write: False, Writing: False\n",
      "------------\n",
      "MASTER EVENTS:\n",
      "Reading: False, Clear to send: True, Write data available: False, Waiting to write: False, Writing: False\n",
      "SLAVE EVENTS:\n",
      "Reading: False, Clear to send: True, Write data available: False, Waiting to write: False, Writing: False\n",
      "------------\n",
      "MASTER EVENTS:\n",
      "Reading: False, Clear to send: True, Write data available: False, Waiting to write: False, Writing: False\n",
      "SLAVE EVENTS:\n",
      "Reading: False, Clear to send: True, Write data available: False, Waiting to write: False, Writing: False\n",
      "------------\n",
      "MASTER EVENTS:\n",
      "Reading: False, Clear to send: True, Write data available: False, Waiting to write: False, Writing: False\n",
      "SLAVE EVENTS:\n",
      "Reading: False, Clear to send: True, Write data available: False, Waiting to write: False, Writing: False\n",
      "------------\n",
      "MASTER EVENTS:\n",
      "Reading: False, Clear to send: True, Write data available: False, Waiting to write: False, Writing: False\n",
      "SLAVE EVENTS:\n",
      "Reading: False, Clear to send: True, Write data available: False, Waiting to write: False, Writing: False\n",
      "------------MASTER EVENTS:\n",
      "Reading: False, Clear to send: True, Write data available: False, Waiting to write: False, Writing: FalseSLAVE EVENTS:\n",
      "Reading: False, Clear to send: True, Write data available: False, Waiting to write: False, Writing: False\n",
      "------------\n",
      "MASTER EVENTS:\n",
      "Reading: False, Clear to send: True, Write data available: False, Waiting to write: False, Writing: False\n",
      "SLAVE EVENTS:Reading: False, Clear to send: True, Write data available: False, Waiting to write: False, Writing: False\n",
      "------------\n",
      "MASTER EVENTS:\n",
      "Reading: False, Clear to send: True, Write data available: False, Waiting to write: False, Writing: False\n",
      "SLAVE EVENTS:\n",
      "Reading: False, Clear to send: True, Write data available: False, Waiting to write: False, Writing: False\n",
      "------------\n",
      "MASTER EVENTS:\n",
      "Reading: False, Clear to send: True, Write data available: False, Waiting to write: False, Writing: False\n",
      "SLAVE EVENTS:\n",
      "Reading: False, Clear to send: True, Write data available: False, Waiting to write: False, Writing: False------------\n",
      "MASTER EVENTS:\n",
      "Reading: False, Clear to send: True, Write data available: False, Waiting to write: False, Writing: False\n",
      "SLAVE EVENTS:\n",
      "Reading: False, Clear to send: True, Write data available: False, Waiting to write: False, Writing: False------------\n",
      "MASTER EVENTS:\n",
      "Reading: False, Clear to send: True, Write data available: False, Waiting to write: False, Writing: False\n",
      "SLAVE EVENTS:\n",
      "Reading: False, Clear to send: True, Write data available: False, Waiting to write: False, Writing: False\n",
      "------------\n",
      "MASTER EVENTS:\n",
      "Reading: False, Clear to send: True, Write data available: False, Waiting to write: False, Writing: False\n",
      "SLAVE EVENTS:\n",
      "Reading: False, Clear to send: True, Write data available: False, Waiting to write: False, Writing: False\n",
      "------------\n",
      "MASTER EVENTS:\n",
      "Reading: False, Clear to send: True, Write data available: False, Waiting to write: False, Writing: False\n",
      "SLAVE EVENTS:\n",
      "Reading: False, Clear to send: True, Write data available: False, Waiting to write: False, Writing: False\n",
      "------------\n"
     ]
    },
    {
     "name": "stderr",
     "output_type": "stream",
     "text": [
      "Interrupted"
     ]
    }
   ],
   "source": [
    "from main.lib.uasyncio.primitives.message import Message\n",
    "from main.lib.uasyncio.primitives.queue import Queue\n",
    "from uasyncio import create_task, sleep_ms, wait_for_ms, run, new_event_loop\n",
    "\n",
    "from uasyncio.stream import Stream\n",
    "from uasyncio.event import Event\n",
    "\n",
    "import gc\n",
    "gc.collect()\n",
    "\n",
    "# This class:\n",
    "#   Reads non blocking on rcv end of stream (a)\n",
    "#   Writes on snd end of stream (b)\n",
    "# snd|--->>|rcv\n",
    "# \n",
    "class SpyStream(object):\n",
    "    \n",
    "    #TX clear to send event\n",
    "    tx_cts = Event()\n",
    "    _reading = Event()\n",
    "    _writedata = Event()\n",
    "    _writing = Event()\n",
    "    _writewait = Event()\n",
    "    \n",
    "    rxq = Queue()\n",
    "    txq = Queue()\n",
    "    \n",
    "    def __init__(self, read_func, write_func):\n",
    "        print('SpyStream.__init__')\n",
    "        self.stream_read = read_func\n",
    "        self.stream_write = write_func\n",
    "        self.read_task = create_task(self._read())\n",
    "        self.write_task = create_task(self._write())\n",
    "    \n",
    "    async def _read(self):\n",
    "        while True:\n",
    "            try:\n",
    "                self.tx_cts.clear()\n",
    "                chunk = await wait_for_ms(self.stream_read(64), 10)\n",
    "                self._reading.set()\n",
    "                self.rxq.put_nowait(chunk)\n",
    "            except:\n",
    "                self._reading.clear()\n",
    "                self.tx_cts.set()\n",
    "            await sleep_ms(100)\n",
    "        \n",
    "    async def _write(self):\n",
    "        while True:\n",
    "            try:\n",
    "                self._writedata.clear()\n",
    "                data = await self.txq.get()\n",
    "                self._writedata.set()\n",
    "                self._writewait.set()\n",
    "                await self.tx_cts.wait()\n",
    "                self._writewait.clear()\n",
    "                self._writing.set()\n",
    "                self.stream_write(data)\n",
    "                self._writing.clear()\n",
    "            except:\n",
    "                pass\n",
    "    \n",
    "\n",
    "class MasterSlaveSpy(object):\n",
    "    \n",
    "    def __init__(self, master_stream: Stream, slave_stream: Stream):\n",
    "        self._master = SpyStream(master_stream.read, slave_stream.write)\n",
    "        self._slave = SpyStream(master_stream.write, slave_stream.read)\n",
    "        \n",
    "    # Master events\n",
    "    @property\n",
    "    def evt_master_read_data(self):\n",
    "        return self._master._reading\n",
    "    \n",
    "    @property\n",
    "    def evt_master_cts(self):\n",
    "        return self._master.tx_cts\n",
    "    \n",
    "    @property\n",
    "    def evt_master_write_data(self):\n",
    "        return self._master._writedata\n",
    "    \n",
    "    @property\n",
    "    def evt_master_write_wait(self):\n",
    "        return self._master._writewait\n",
    "    \n",
    "    @property\n",
    "    def evt_master_write(self):\n",
    "        return self._master._writing\n",
    "    \n",
    "    # Slave events\n",
    "    @property\n",
    "    def evt_slave_read_data(self):\n",
    "        return self._slave._reading\n",
    "    \n",
    "    @property\n",
    "    def evt_slave_cts(self):\n",
    "        return self._slave.tx_cts\n",
    "    \n",
    "    @property\n",
    "    def evt_slave_write_data(self):\n",
    "        return self._slave._writedata\n",
    "    \n",
    "    @property\n",
    "    def evt_slave_write_wait(self):\n",
    "        return self._slave._writewait\n",
    "    \n",
    "    @property\n",
    "    def evt_slave_write(self):\n",
    "        return self._slave._writing\n",
    "    \n",
    "async def io_gate(pin_id, on_event, off_event):\n",
    "    from machine import Pin\n",
    "    pin = Pin(pin_id, Pin.OUT)\n",
    "    pin.off()\n",
    "    while True:\n",
    "        await on_event.wait()\n",
    "        pin.on()\n",
    "        await off_event.wait()\n",
    "        pin.off()\n",
    "        await sleep_ms(0)\n",
    "    \n",
    "\n",
    "class GatedMasterSlaveSpy(MasterSlaveSpy):\n",
    "    def __init__(self, master_stream: Stream, slave_stream: Stream, master_tx_pin, slave_tx_pin):\n",
    "        super().__init__(master_stream, slave_stream)\n",
    "        create_task(io_gate(master_tx_pin, self.evt_master_cts, self.evt_slave_read_data))\n",
    "        create_task(io_gate(slave_tx_pin, self.evt_slave_cts, self.evt_master_read_data))\n",
    "    \n",
    "#     async def _read_slave_queue(self):\n",
    "#         while True:\n",
    "#             data = await self._slave.rxq.get()\n",
    "#             print(data)\n",
    "#             sleep_ms(10)\n",
    "                \n",
    "async def runner():\n",
    "    from machine import UART\n",
    "\n",
    "    msSpy = GatedMasterSlaveSpy(\n",
    "        Stream(UART(1, baudrate=38400, rx=26)), \n",
    "        Stream(UART(2, baudrate=38400, rx=27)), 4, 5)\n",
    "    while True:\n",
    "        print(\"MASTER EVENTS:\\nReading: {}, Clear to send: {}, Write data available: {}, Waiting to write: {}, Writing: {}\".format(\n",
    "                msSpy.evt_master_read_data.is_set(), \n",
    "                msSpy._master.tx_cts.is_set(), \n",
    "                msSpy._master._writedata.is_set(), \n",
    "                msSpy._master._writewait.is_set(), \n",
    "                msSpy._master._writing.is_set()))\n",
    "        await sleep_ms(10)\n",
    "        print(\"SLAVE EVENTS:\\nReading: {}, Clear to send: {}, Write data available: {}, Waiting to write: {}, Writing: {}\".format(\n",
    "                msSpy._slave._reading.is_set(), \n",
    "                msSpy._slave.tx_cts.is_set(), \n",
    "                msSpy._slave._writedata.is_set(), \n",
    "                msSpy._slave._writewait.is_set(), \n",
    "                msSpy._slave._writing.is_set()))\n",
    "        await sleep_ms(10)\n",
    "        print('------------')\n",
    "        await sleep_ms(1000)\n",
    "        gc.collect()\n",
    "\n",
    "import gc\n",
    "\n",
    "\n",
    "try:\n",
    "    run(runner())\n",
    "except KeyboardInterrupt:\n",
    "    print('Interrupted')\n",
    "finally:\n",
    "    loop = new_event_loop()\n"
   ]
  },
  {
   "cell_type": "markdown",
   "metadata": {},
   "source": [
    "\n",
    "### Test-stream to mimic UART\n",
    "for reading ```recipe_stream``` starting somewhere random and wrapping around"
   ]
  },
  {
   "cell_type": "code",
   "execution_count": 5,
   "metadata": {},
   "outputs": [],
   "source": [
    "rnd = randrange(len(recipe_stream))\n",
    "recipe_stream = recipe_stream[rnd:len(recipe_stream)] + recipe_stream[0:rnd]\n",
    "#print(hexlify(bytes(recipe_stream[0:60])))\n",
    "\n",
    "pointer = 0\n",
    "def readchars(amount=1):\n",
    "    global pointer\n",
    "    res = bytearray()\n",
    "    for i in range(0, amount):\n",
    "        #bt = hexlify(bytes(recipe_stream[pointer]))\n",
    "        #print(recipe_stream[pointer], bt)\n",
    "        res = res + bytes([recipe_stream[pointer]])\n",
    "        #print(res)\n",
    "        pointer = (pointer + 1) % len(recipe_stream)\n",
    "        #print(pointer)\n",
    "    return res\n",
    "    \n",
    "def read():\n",
    "    readlength = randrange(16) + 1\n",
    "    #print(readlength)\n",
    "    return readchars(readlength)"
   ]
  },
  {
   "cell_type": "markdown",
   "metadata": {},
   "source": [
    "### Parsing\n",
    "\n",
    "```bytes.partition( sep )```\n",
    "\n",
    "Split the sequence at the first occurrence of ```sep```, and return a 3-tuple containing the part before the separator, the separator itself or its bytearray copy, and the part after the separator. If the separator is not found, return a 3-tuple containing a copy of the original sequence, followed by two empty bytes or bytearray objects.\n",
    "\n",
    "```\n",
    "unfound = (original, b'', b'')\n",
    "found = (before, seperator, after)\n",
    "```\n",
    "\n",
    "### Validating\n",
    "The command message:\n",
    "- starts with a footer: ```[0x55, 0x00]``` or ```[85, 0]```\n",
    "- followed by a message discriminator ```2, 6, 8 or 11```\n",
    "- - recipe ```[0x27]``` or ```[39]```\n",
    "- message\n",
    "- checksum ```sum(message[1:]) % 256 == crc```\n",
    "- ends with ```[0xAA]``` or ```[170]```"
   ]
  },
  {
   "cell_type": "code",
   "execution_count": 6,
   "metadata": {},
   "outputs": [],
   "source": [
    "def validate(cmd, crc):\n",
    "    return sum(cmd[1:]) % 256 == crc\n",
    "\n",
    "def parse(buffer, cmds=[]):\n",
    "    # Partition buffer by header    \n",
    "    partitions = buffer.partition(header)\n",
    "    \n",
    "    if len(partitions[1]) == 0:\n",
    "        # No header found, return full buffer\n",
    "        return (partitions[0], [])\n",
    "    \n",
    "    # A header was found\n",
    "    # partitions[0] is garbage, partitions[1] is our header\n",
    "    # Find footer in partitions[2]\n",
    "    tail = partitions[2].partition(footer)\n",
    "    if len(tail[1]) == 0:\n",
    "        # No footer found, partitions[2] is our return buffer\n",
    "        # No commands are found\n",
    "        return (header + partitions[2], cmds)\n",
    "    \n",
    "    # A footer was found\n",
    "    # Add tail[0] to the found commands\n",
    "    cmd, crc = (tail[0][:-1], tail[0][len(tail[0])-1])\n",
    "    #print(cmd, crc)\n",
    "    if validate(cmd, crc):\n",
    "        cmds.append(cmd)\n",
    "\n",
    "    #print(\"Command found: \", hexlify(tail[0]))\n",
    "    remainder, cmds = parse(tail[2], cmds)\n",
    "    return (remainder, cmds)"
   ]
  },
  {
   "cell_type": "code",
   "execution_count": 7,
   "metadata": {},
   "outputs": [],
   "source": [
    "def send(commands):\n",
    "    for cmd in commands:\n",
    "        if cmd[0] == 0x27: #39\n",
    "            print(\"SENDING RECIPE\", hexlify(cmd[1:]), len(cmd)-1)"
   ]
  },
  {
   "cell_type": "markdown",
   "metadata": {},
   "source": [
    "## Test code"
   ]
  },
  {
   "cell_type": "code",
   "execution_count": 306,
   "metadata": {},
   "outputs": [
    {
     "name": "stdout",
     "output_type": "stream",
     "text": [
      "SENDING RECIPE b'02012406050000000000b400000000000000000000000000000000000000000000000000000000' 39\n",
      "SENDING RECIPE b'02012404040000000000320032005f071e00000000000000000000000000000000000024000000' 39\n",
      "SENDING RECIPE b'020124040400000000006400640082000000000000000000000000000000000000000024000000' 39\n",
      "SENDING RECIPE b'020124040101040000006e003200580a1e003c2d00000000000000000000000000040024002100' 39\n",
      "SENDING RECIPE b'020124040104000000007800280050074b00783c000000000000000000000000000a0024002100' 39\n",
      "SENDING RECIPE b'0201240602000000000078000000000000001e1e0500be4c000000000000000000030022000100' 39\n",
      "SENDING RECIPE b'02012406050000000000b400000000000000000000000000000000000000000000000000000000' 39\n",
      "SENDING RECIPE b'02012404040000000000780078005b000000000000000000000000000000000000000024000000' 39\n",
      "SENDING RECIPE b'02012404040000000000320032005f071e00000000000000000000000000000000000024000000' 39\n",
      "SENDING RECIPE b'020124040400000000006400640082000000000000000000000000000000000000000024000000' 39\n",
      "SENDING RECIPE b'020124040101040000006e003200580a1e003c2d00000000000000000000000000040024002100' 39\n",
      "SENDING RECIPE b'020124040104000000007800280050074b00783c000000000000000000000000000a0024002100' 39\n",
      "SENDING RECIPE b'0201240602000000000078000000000000001e1e0500be4c000000000000000000030022000100' 39\n",
      "SENDING RECIPE b'02012406050000000000b400000000000000000000000000000000000000000000000000000000' 39\n",
      "SENDING RECIPE b'02012404040000000000780078005b000000000000000000000000000000000000000024000000' 39\n",
      "SENDING RECIPE b'02012404040000000000320032005f071e00000000000000000000000000000000000024000000' 39\n",
      "SENDING RECIPE b'020124040400000000006400640082000000000000000000000000000000000000000024000000' 39\n",
      "SENDING RECIPE b'020124040101040000006e003200580a1e003c2d00000000000000000000000000040024002100' 39\n",
      "SENDING RECIPE b'020124040104000000007800280050074b00783c000000000000000000000000000a0024002100' 39\n",
      "SENDING RECIPE b'0201240602000000000078000000000000001e1e0500be4c000000000000000000030022000100' 39\n",
      "SENDING RECIPE b'02012406050000000000b400000000000000000000000000000000000000000000000000000000' 39\n",
      "SENDING RECIPE b'02012404040000000000780078005b000000000000000000000000000000000000000024000000' 39\n",
      "SENDING RECIPE b'02012404040000000000320032005f071e00000000000000000000000000000000000024000000' 39\n",
      "SENDING RECIPE b'020124040400000000006400640082000000000000000000000000000000000000000024000000' 39\n"
     ]
    }
   ],
   "source": [
    "buffer = bytearray()\n",
    "for i in range(0,120):\n",
    "    res = read()\n",
    "    buffer = buffer + res\n",
    "\n",
    "    remainder, commands = parse(bytes(buffer))\n",
    "    buffer = bytearray(remainder)\n",
    "\n",
    "    if len(commands) > 0:\n",
    "        send(commands)\n",
    "        commands.clear()"
   ]
  },
  {
   "cell_type": "markdown",
   "metadata": {},
   "source": [
    "## WiFi"
   ]
  },
  {
   "cell_type": "code",
   "execution_count": 191,
   "metadata": {},
   "outputs": [
    {
     "name": "stdout",
     "output_type": "stream",
     "text": [
      "Connecting to network 1000\n",
      "Network config ('192.168.1.80', '255.255.255.0', '192.168.1.1', '192.168.1.2')\n"
     ]
    }
   ],
   "source": [
    "\n",
    "def connect(SSID, PSK, reconnects=5):\n",
    "    import network\n",
    "    from time import sleep\n",
    "    sta_if = network.WLAN(network.STA_IF)\n",
    "    sta_if.active(True)\n",
    "    sta_if.config(reconnects=reconnects)\n",
    "    if not sta_if.isconnected():\n",
    "        print(\"Connecting to network\", sta_if.status())\n",
    "        sta_if.connect(SSID, PSK)\n",
    "        while not sta_if.isconnected():\n",
    "            sleep(0.1)\n",
    "    print(\"Network config\", sta_if.ifconfig())\n",
    "    \n",
    "connect(\"Stichting De Melkweg\", \"melkweggast\")"
   ]
  },
  {
   "cell_type": "code",
   "execution_count": 90,
   "metadata": {},
   "outputs": [
    {
     "name": "stdout",
     "output_type": "stream",
     "text": [
      "Network config ('0.0.0.0', '0.0.0.0', '0.0.0.0', '0.0.0.0')"
     ]
    }
   ],
   "source": [
    "import network\n",
    "from time import sleep\n",
    "\n",
    "def connect():\n",
    "    sta_if = network.WLAN(network.STA_IF)\n",
    "    sta_if.active(True)\n",
    "    sleep(0.5)\n",
    "    print(\"Network config\", sta_if.ifconfig())\n",
    "    \n",
    "connect()"
   ]
  },
  {
   "cell_type": "markdown",
   "metadata": {},
   "source": [
    "## UART"
   ]
  },
  {
   "cell_type": "code",
   "execution_count": 10,
   "metadata": {},
   "outputs": [],
   "source": [
    "from machine import UART\n",
    "uart1 = UART(1, baudrate=38400, rx=26, tx=0) #cpu.TX read\n",
    "uart2 = UART(2, baudrate=38400, rx=27, tx=0) #cpu.RX read\n",
    "\n",
    "#wypi only?\n",
    "#def handler():\n",
    "#    print('irq received')\n",
    "#uart2.irq(UART.RX_ANY, handler)\n",
    "\n",
    "from ubinascii import hexlify\n",
    "from time import sleep\n",
    "\n",
    "def readloop():\n",
    "    buffer = bytearray()\n",
    "    while 1:\n",
    "        bts = uart2.read()\n",
    "        if bts is not None:\n",
    "            print(b'received', hexlify(bts))\n",
    "            buffer = buffer + bts\n",
    "            remainder, commands = parse(bytes(buffer))\n",
    "            buffer = bytearray(remainder)\n",
    "\n",
    "            if len(commands) > 0:\n",
    "                send(commands)\n",
    "                commands.clear()\n",
    "            \n",
    "        sleep(0.1)"
   ]
  },
  {
   "cell_type": "code",
   "execution_count": 316,
   "metadata": {},
   "outputs": [
    {
     "name": "stdout",
     "output_type": "stream",
     "text": [
      "\u001b[34m\n",
      "\n",
      "*** Sending Ctrl-C\n",
      "\n",
      "\u001b[0m"
     ]
    },
    {
     "name": "stderr",
     "output_type": "stream",
     "text": [
      "Traceback (most recent call last):\n",
      "  File \"<stdin>\", line 1, in <module>\n",
      "  File \"<stdin>\", line 27, in readloop\n",
      "KeyboardInterrupt: \n"
     ]
    }
   ],
   "source": [
    "readloop()"
   ]
  },
  {
   "cell_type": "code",
   "execution_count": 154,
   "metadata": {},
   "outputs": [
    {
     "name": "stdout",
     "output_type": "stream",
     "text": [
      "ets Jun  8 2016 00:22:57\n",
      "\n",
      "rst:0xc (SW_CPU_RESET),boot:0x13 (SPI_FAST_FLASH_BOOT)\n",
      "configsip: 0, SPIWP:0xee\n",
      "clk_drv:0x00,q_drv:0x00,d_drv:0x00,cs0_drv:0x00,hd_drv:0x00,wp_drv:0x00\n",
      "mode:DIO, clock div:2\n",
      "load:0x3fff0030,len:5440\n",
      "load:0x40078000,len:14404\n",
      "ho 0 tail 12 room 4\n",
      "load:0x40080400,len:3456\n",
      "entry 0x40080638\n",
      "MicroPython v1.17-dirty on 2021-10-11; 4MB/OTA module with ESP32Type \"help()\" for more information."
     ]
    }
   ],
   "source": [
    "from machine import reset\n",
    "reset()"
   ]
  },
  {
   "cell_type": "code",
   "execution_count": 160,
   "metadata": {},
   "outputs": [
    {
     "name": "stderr",
     "output_type": "stream",
     "text": [
      "Traceback (most recent call last):\n",
      "  File \"<stdin>\", line 16, in <module>\n",
      "  File \"uasyncio/core.py\", line 1, in run\n",
      "  File \"uasyncio/core.py\", line 1, in run_until_complete\n",
      "  File \"uasyncio/core.py\", line 1, in wait_io_event\n",
      "KeyboardInterrupt: \n",
      "\n",
      "\n"
     ]
    }
   ],
   "source": [
    "import uasyncio as asyncio\n",
    "from random import randrange\n",
    "\n",
    "tq = asyncio.TaskQueue()\n",
    "\n",
    "async def bla(index, ms):\n",
    "    await asyncio.sleep_ms(ms)\n",
    "    print(\"bla\", index, time)\n",
    "\n",
    "async def main():\n",
    "    for i in range(0, 10):\n",
    "        tq.push_head(asyncio.Task(bla(i, randrange(5000))))\n",
    "    while True:\n",
    "        await asyncio.sleep(1)\n",
    "\n",
    "asyncio.run(main())"
   ]
  },
  {
   "cell_type": "code",
   "execution_count": 142,
   "metadata": {},
   "outputs": [
    {
     "name": "stdout",
     "output_type": "stream",
     "text": [
      "Task exception wasn't retrieved\n",
      "future: <Task> coro= <generator object 'sender' at 3ffd1c00>\n",
      "Traceback (most recent call last):\n",
      "  File \"uasyncio/core.py\", line 1, in run_until_complete\n",
      "  File \"<stdin>\", line 7, in sender\n",
      "NameError: name 'uart' isn't defined\n"
     ]
    },
    {
     "name": "stderr",
     "output_type": "stream",
     "text": [
      "Interruptedas_demos.auart.test() to run again."
     ]
    }
   ],
   "source": [
    "import uasyncio as asyncio\n",
    "\n",
    "from machine import UART\n",
    "uart1 = UART(1, baudrate=38400, rx=26, tx=0) #cpu.TX read\n",
    "uart2 = UART(2, baudrate=38400, rx=27, tx=0) #cpu.RX read\n",
    "async def sender():\n",
    "    swriter = asyncio.StreamWriter(uart, {})\n",
    "    while True:\n",
    "        swriter.write('Hello uart\\n')\n",
    "        await swriter.drain()\n",
    "        await asyncio.sleep(2)\n",
    "\n",
    "async def receiver():\n",
    "    sreader = asyncio.StreamReader(uart2)\n",
    "    while True:\n",
    "        res = await sreader.readline()\n",
    "        print('Recieved', res)\n",
    "\n",
    "async def main():\n",
    "    asyncio.create_task(sender())\n",
    "    asyncio.create_task(receiver())\n",
    "    while True:\n",
    "        await asyncio.sleep(1)\n",
    "\n",
    "def test():\n",
    "    try:\n",
    "        asyncio.run(main())\n",
    "    except KeyboardInterrupt:\n",
    "        print('Interrupted')\n",
    "    finally:\n",
    "        asyncio.new_event_loop()\n",
    "        print('as_demos.auart.test() to run again.')\n",
    "\n",
    "test()"
   ]
  },
  {
   "cell_type": "code",
   "execution_count": 173,
   "metadata": {},
   "outputs": [
    {
     "name": "stdout",
     "output_type": "stream",
     "text": [
      "hello\n",
      "hello\n",
      "hello\n",
      "hello\n",
      "hello\n"
     ]
    },
    {
     "name": "stderr",
     "output_type": "stream",
     "text": [
      "Traceback (most recent call last):\n",
      "  File \"<stdin>\", line 19, in <module>\n",
      "  File \"<stdin>\", line 15, in run\n",
      "  File \"uasyncio/core.py\", line 1, in run\n",
      "  File \"uasyncio/core.py\", line 1, in run_until_complete\n",
      "  File \"uasyncio/core.py\", line 1, in wait_io_event\n",
      "KeyboardInterrupt: \n",
      "\n",
      "\n"
     ]
    }
   ],
   "source": [
    "import uasyncio\n",
    "class Runner(object):\n",
    "    async def run_forever(self):\n",
    "        while True:\n",
    "            print('hello')\n",
    "            await uasyncio.sleep_ms(500)\n",
    "\n",
    "async def main():\n",
    "   runner = Runner()  # Constructor creates tasks\n",
    "   await runner.run_forever()  # Never terminates\n",
    "\n",
    "def run():  # Entry point\n",
    "    while True:\n",
    "        try:\n",
    "            uasyncio.run(main())\n",
    "        finally:\n",
    "            uasyncio.new_event_loop()\n",
    "        \n",
    "run()"
   ]
  },
  {
   "cell_type": "code",
   "execution_count": 79,
   "metadata": {},
   "outputs": [],
   "source": [
    "from umqtt.robust2 import MQTTClient\n",
    "MQTTClient."
   ]
  },
  {
   "cell_type": "markdown",
   "metadata": {},
   "source": [
    "## MQTT"
   ]
  },
  {
   "cell_type": "code",
   "execution_count": 324,
   "metadata": {},
   "outputs": [
    {
     "name": "stdout",
     "output_type": "stream",
     "text": [
      "[leftinbuffer] ['>']\n",
      "[leftinbuffer] ['MicroPython v1.17-dirty on 2021-10-11; 4MB/OTA module with ESP32']\n",
      "[leftinbuffer] ['Type \"help()\" for more information.']\n",
      "[leftinbuffer] ['>>> ']\n",
      "[duringwriting] b'f'[duringwriting] b'rom umqtt.robust2 import'[duringwriting] b' MQTTClient\\r\\n'>>>\n",
      "[missing-OK] mqtt_client = MQTTClient(\"c4c\", \"192.168.1.72\")\n",
      ">>> \n",
      ">>>\n",
      "[missing-OK] def cb(topic, msg, arg3, arg4):\n",
      "\n",
      "[missing-OK]...         print((topic, msg))\n",
      "\n",
      "[missing-OK]...         \n",
      "\n",
      "[missing-OK]...         mqtt_client.set_callback(cb)\n",
      "\n",
      "[missing-OK]...         mqtt_client.connect()\n",
      "\n",
      "[missing-OK]...         \n",
      "\n",
      "[missing-OK]...         topic_sub = b'commands'\n",
      "\n",
      "[missing-OK]...         topic_pub = b'c4c_order'\n",
      "\n",
      "[missing-OK]...         \n",
      "\n",
      "[missing-OK]...         mqtt_client.subscribe(topic_sub)\n",
      "\n",
      "[missing-OK]...         mqtt_..\u001b[34m\n",
      "\n",
      "*** Sending Ctrl-C\n",
      "\n",
      "\u001b[0m\n",
      "...         \n",
      ">>> \u001b[31m[Timed out waiting for recognizable response]\n",
      "\u001b[0m"
     ]
    }
   ],
   "source": [
    "from umqtt.robust2 import MQTTClient\n",
    "mqtt_client = MQTTClient(\"c4c\", \"192.168.1.72\")\n",
    "\n",
    "def cb(topic, msg, arg3, arg4):\n",
    "    print((topic, msg))\n",
    "\n",
    "mqtt_client.set_callback(cb)\n",
    "mqtt_client.connect()\n",
    "\n",
    "topic_sub = b'commands'\n",
    "topic_pub = b'c4c_order'\n",
    "\n",
    "mqtt_client.subscribe(topic_sub)\n",
    "mqtt_client.publish(topic_pub, b'abcd', qos=1)\n",
    "mqtt_client.check_msg()"
   ]
  },
  {
   "cell_type": "code",
   "execution_count": 19,
   "metadata": {},
   "outputs": [
    {
     "name": "stdout",
     "output_type": "stream",
     "text": [
      "New session being set up\n",
      "SENDING RECIPE b'0201240602000000000078000000000000001e1e0500be4c000000000000000000030022000100' 39\n",
      "(b'recipe', b'\\x02\\x01$\\x06\\x02\\x00\\x00\\x00\\x00\\x00x\\x00\\x00\\x00\\x00\\x00\\x00\\x00\\x1e\\x1e\\x05\\x00\\xbeL\\x00\\x00\\x00\\x00\\x00\\x00\\x00\\x00\\x00\\x03\\x00\"\\x00\\x01\\x00', False, False)\n",
      ".SENDING RECIPE b'02012406050000000000b400000000000000000000000000000000000000000000000000000000' 39\n",
      "(b'recipe', b'\\x02\\x01$\\x06\\x05\\x00\\x00\\x00\\x00\\x00\\xb4\\x00\\x00\\x00\\x00\\x00\\x00\\x00\\x00\\x00\\x00\\x00\\x00\\x00\\x00\\x00\\x00\\x00\\x00\\x00\\x00\\x00\\x00\\x00\\x00\\x00\\x00\\x00\\x00', False, False)\n",
      "SENDING RECIPE b'02012404040000000000780078005b000000000000000000000000000000000000000024000000' 39\n",
      "(b'recipe', b'\\x02\\x01$\\x04\\x04\\x00\\x00\\x00\\x00\\x00x\\x00x\\x00[\\x00\\x00\\x00\\x00\\x00\\x00\\x00\\x00\\x00\\x00\\x00\\x00\\x00\\x00\\x00\\x00\\x00\\x00\\x00\\x00$\\x00\\x00\\x00', False, False)\n",
      ".SENDING RECIPE b'02012404040000000000320032005f071e00000000000000000000000000000000000024000000' 39\n",
      "(b'recipe', b'\\x02\\x01$\\x04\\x04\\x00\\x00\\x00\\x00\\x002\\x002\\x00_\\x07\\x1e\\x00\\x00\\x00\\x00\\x00\\x00\\x00\\x00\\x00\\x00\\x00\\x00\\x00\\x00\\x00\\x00\\x00\\x00$\\x00\\x00\\x00', False, False)\n",
      "SENDING RECIPE b'020124040400000000006400640082000000000000000000000000000000000000000024000000' 39\n",
      ".(b'recipe', b'\\x02\\x01$\\x04\\x04\\x00\\x00\\x00\\x00\\x00d\\x00d\\x00\\x82\\x00\\x00\\x00\\x00\\x00\\x00\\x00\\x00\\x00\\x00\\x00\\x00\\x00\\x00\\x00\\x00\\x00\\x00\\x00\\x00$\\x00\\x00\\x00', False, False)\n",
      "SENDING RECIPE b'020124040101040000006e003200580a1e003c2d00000000000000000000000000040024002100' 39\n",
      "\u001b[34m\n",
      "\n",
      "*** Sending Ctrl-C\n",
      "\n",
      "\u001b[0m"
     ]
    },
    {
     "name": "stderr",
     "output_type": "stream",
     "text": [
      "Traceback (most recent call last):\n",
      "  File \"<stdin>\", line 49, in <module>\n",
      "KeyboardInterrupt: \n"
     ]
    }
   ],
   "source": [
    "import utime\n",
    "from umqtt.robust2 import MQTTClient\n",
    "\n",
    "\n",
    "def sub_cb(topic, msg, retained, duplicate):\n",
    "    print((topic, msg, retained, duplicate))\n",
    "\n",
    "\n",
    "c = MQTTClient(\"umqtt_client\", \"192.168.1.72\")\n",
    "# Print diagnostic messages when retries/reconnects happens\n",
    "c.DEBUG = True\n",
    "# Information whether we store unsent messages with the flag QoS==0 in the queue.\n",
    "c.KEEP_QOS0 = False\n",
    "# Option, limits the possibility of only one unique message being queued.\n",
    "c.NO_QUEUE_DUPS = False\n",
    "# Limit the number of unsent messages in the queue.\n",
    "#c.MSG_QUEUE_MAX = 2\n",
    "\n",
    "c.set_callback(sub_cb)\n",
    "# Connect to server, requesting not to clean session for this\n",
    "# client. If there was no existing session (False return value\n",
    "# from connect() method), we perform the initial setup of client\n",
    "# session - subscribe to needed topics. Afterwards, these\n",
    "# subscriptions will be stored server-side, and will be persistent,\n",
    "# (as we use clean_session=False).\n",
    "#\n",
    "# TODO: Still exists???\n",
    "# There can be a problem when a session for a given client exists,\n",
    "# but doesn't have subscriptions a particular application expects.\n",
    "# In this case, a session needs to be cleaned first. See\n",
    "# example_reset_session.py for an obvious way how to do that.\n",
    "#\n",
    "# In an actual application, it's up to its developer how to\n",
    "# manage these issues. One extreme is to have external \"provisioning\"\n",
    "# phase, where initial session setup, and any further management of\n",
    "# a session, is done by external tools. This allows to save resources\n",
    "# on a small embedded device. Another extreme is to have an application\n",
    "# to perform auto-setup (e.g., clean session, then re-create session\n",
    "# on each restart). This example shows mid-line between these 2\n",
    "# approaches, where initial setup of session is done by application,\n",
    "# but if anything goes wrong, there's an external tool to clean session.\n",
    "if not c.connect(clean_session=True):\n",
    "    print(\"New session being set up\")\n",
    "    c.subscribe(b\"recipe\")\n",
    "\n",
    "buffer = bytearray()\n",
    "while 1:\n",
    "    utime.sleep_ms(500)\n",
    "\n",
    "    # At this point in the code you must consider how to handle\n",
    "    # connection errors.  And how often to resume the connection.\n",
    "    if c.is_conn_issue():\n",
    "        while c.is_conn_issue():\n",
    "            # If the connection is successful, the is_conn_issue\n",
    "            # method will not return a connection error.\n",
    "            c.reconnect()\n",
    "        else:\n",
    "            c.resubscribe()\n",
    "\n",
    "    c.check_msg() # needed when publish(qos=1), ping(), subscribe()\n",
    "    \n",
    "    # (mock) UART read\n",
    "    res = read()\n",
    "    buffer = buffer + res\n",
    "\n",
    "    remainder, commands = parse(bytes(buffer))\n",
    "    buffer = bytearray(remainder)\n",
    "\n",
    "    if len(commands) > 0:\n",
    "        for cmd in commands:\n",
    "            if cmd[0] == 0x27: #39\n",
    "                print(\"SENDING RECIPE\", hexlify(cmd[1:]), len(cmd)-1)\n",
    "                c.publish(\"recipe\", cmd[1:], qos=1)\n",
    "        commands.clear()\n",
    "        \n",
    "    c.send_queue()  # needed when using the caching capabilities for unsent messages\n",
    "\n",
    "c.disconnect()"
   ]
  },
  {
   "cell_type": "code",
   "execution_count": 307,
   "metadata": {},
   "outputs": [
    {
     "name": "stdout",
     "output_type": "stream",
     "text": [
      "__main__          framebuf          uasyncio/lock     urandom\n",
      "_boot             gc                uasyncio/stream   ure\n",
      "_onewire          inisetup          ubinascii         uselect\n",
      "_thread           machine           ubluetooth        usocket_uasyncio         math              ucollections      ussl\n",
      "_webrepl          micropython       ucryptolib        ustruct\n",
      "apa106            neopixel          uctypes           usys\n",
      "btree             network           uerrno            utime\n",
      "builtins          ntptime           uhashlib          utimeq\n",
      "cmath             onewire           uheapq            uwebsocket\n",
      "dht               uarray            uio               uzlib\n",
      "ds18x20           uasyncio/__init__ ujson             webrepl\n",
      "esp               uasyncio/core     uos               webrepl_setup\n",
      "esp32             uasyncio/event    upip              websocket_helper\n",
      "flashbdev         uasyncio/funcs    upip_utarfile\n",
      "Plus any modules on the filesystem\n",
      "\n",
      "object <module 'esp'> is of type module\n",
      "  __name__ -- esp\n",
      "  osdebug -- <function>\n",
      "  flash_read -- <function>\n",
      "  flash_write -- <function>\n",
      "  flash_erase -- <function>\n",
      "  flash_size -- <function>\n",
      "  flash_user_start -- <function>\n",
      "  gpio_matrix_in -- <function>\n",
      "  gpio_matrix_out -- <function>\n",
      "  dht_readinto -- <function>\n",
      "  LOG_NONE -- 0\n",
      "  LOG_ERROR -- 1\n",
      "  LOG_WARNING -- 2\n",
      "  LOG_INFO -- 3\n",
      "  LOG_DEBUG -- 4\n",
      "  LOG_VERBOSE -- 5\n",
      "\n",
      "object <module 'esp32'> is of type module\n",
      "  __name__ -- esp32\n",
      "  wake_on_touch -- <function>\n",
      "  wake_on_ext0 -- <function>\n",
      "  wake_on_ext1 -- <function>\n",
      "  raw_temperature -- <function>\n",
      "  hall_sensor -- <function>\n",
      "  idf_heap_info -- <function>  NVS -- <class 'NVS'>  Partition -- <class 'Partition'>\n",
      "  RMT -- <class 'RMT'>\n",
      "  ULP -- <class 'ULP'>\n",
      "  WAKEUP_ALL_LOW -- False\n",
      "  WAKEUP_ANY_HIGH -- True\n",
      "  HEAP_DATA -- 4\n",
      "  HEAP_EXEC -- 1\n",
      "object <module '_boot' from '_boot.py'> is of type module\n",
      "  uos -- <module 'uos'>\n",
      "  __name__ -- _boot\n",
      "  gc -- <module 'gc'>\n",
      "  __file__ -- _boot.py\n",
      "  bdev -- <Partition type=1, subtype=129, address=3211264, size=983040, label=vfs, encrypted=0>\n",
      "\n",
      "object <module 'builtins'> is of type module\n",
      "  __name__ -- builtins\n",
      "  __build_class__ -- <function>\n",
      "  __import__ -- <function>  __repl_print__ -- <function>\n",
      "  bool -- <class 'bool'>  bytes -- <class 'bytes'>\n",
      "  bytearray -- <class 'bytearray'>\n",
      "  complex -- <class 'complex'>\n",
      "  dict -- <class 'dict'>\n",
      "  enumerate -- <class 'enumerate'>\n",
      "  filter -- <class 'filter'>\n",
      "  float -- <class 'float'>\n",
      "  frozenset -- <class 'frozenset'>\n",
      "  int -- <class 'int'>\n",
      "  list -- <class 'list'>  map -- <class 'map'>\n",
      "  memoryview -- <class 'memoryview'>\n",
      "  object -- <class 'object'>\n",
      "  property -- <class 'property'>\n",
      "  range -- <class 'range'>\n",
      "  reversed -- <class 'reversed'>\n",
      "  set -- <class 'set'>\n",
      "  slice -- <class 'slice'>\n",
      "  str -- <class 'str'>\n",
      "  super -- <class 'super'>\n",
      "  tuple -- <class 'tuple'>\n",
      "  type -- <class 'type'>\n",
      "  zip -- <class 'zip'>\n",
      "  classmethod -- <class 'classmethod'>\n",
      "  staticmethod -- <class 'staticmethod'>  Ellipsis -- Ellipsis\n",
      "  NotImplemented -- NotImplemented\n",
      "  abs -- <function>  all -- <function>\n",
      "  any -- <function>\n",
      "  bin -- <function>\n",
      "  callable -- <function>\n",
      "  compile -- <function>\n",
      "  chr -- <function>\n",
      "  delattr -- <function>\n",
      "  dir -- <function>\n",
      "  divmod -- <function>\n",
      "  eval -- <function>\n",
      "  exec -- <function>\n",
      "  execfile -- <function>\n",
      "  getattr -- <function>\n",
      "  setattr -- <function>  globals -- <function>\n",
      "  hasattr -- <function>\n",
      "  hash -- <function>\n",
      "  help -- <function>\n",
      "  hex -- <function>\n",
      "  id -- <function>\n",
      "  input -- <function>\n",
      "  isinstance -- <function>\n",
      "  issubclass -- <function>\n",
      "  iter -- <function>\n",
      "  len -- <function>\n",
      "  locals -- <function>\n",
      "  max -- <function>\n",
      "  min -- <function>\n",
      "  next -- <function>\n",
      "  oct -- <function>\n",
      "  ord -- <function>\n",
      "  pow -- <function>\n",
      "  print -- <function>\n",
      "  repr -- <function>\n",
      "  round -- <function>\n",
      "  sorted -- <function>\n",
      "  sum -- <function>  BaseException -- <class 'BaseException'>\n",
      "  ArithmeticError -- <class 'ArithmeticError'>\n",
      "  AssertionError -- <class 'AssertionError'>\n",
      "  AttributeError -- <class 'AttributeError'>\n",
      "  EOFError -- <class 'EOFError'>\n",
      "  Exception -- <class 'Exception'>\n",
      "  GeneratorExit -- <class 'GeneratorExit'>\n",
      "  ImportError -- <class 'ImportError'>\n",
      "  IndentationError -- <class 'IndentationError'>\n",
      "  IndexError -- <class 'IndexError'>\n",
      "  KeyboardInterrupt -- <class 'KeyboardInterrupt'>\n",
      "  KeyError -- <class 'KeyError'>\n",
      "  LookupError -- <class 'LookupError'>\n",
      "  MemoryError -- <class 'MemoryError'>  NameError -- <class 'NameError'>\n",
      "  NotImplementedError -- <class 'NotImplementedError'>\n",
      "  OSError -- <class 'OSError'>\n",
      "  OverflowError -- <class 'OverflowError'>\n",
      "  RuntimeError -- <class 'RuntimeError'>\n",
      "  StopAsyncIteration -- <class 'StopAsyncIteration'>\n",
      "  StopIteration -- <class 'StopIteration'>\n",
      "  SyntaxError -- <class 'SyntaxError'>\n",
      "  SystemExit -- <class 'SystemExit'>\n",
      "  TypeError -- <class 'TypeError'>\n",
      "  UnicodeError -- <class 'UnicodeError'>\n",
      "  ValueError -- <class 'ValueError'>\n",
      "  ViperTypeError -- <class 'ViperTypeError'>\n",
      "  ZeroDivisionError -- <class 'ZeroDivisionError'>\n",
      "  input -- <function>\n",
      "  open -- <function>\n",
      ">>> "
     ]
    }
   ],
   "source": [
    "import esp\n",
    "import esp32\n",
    "help(\"modules\")\n",
    "print()\n",
    "help(esp)\n",
    "print()\n",
    "help(esp32)\n",
    "\n",
    "import gc\n",
    "gc.collect()\n",
    "\n",
    "import _boot\n",
    "help(_boot)\n",
    "print()\n",
    "import builtins\n",
    "help(builtins)\n",
    "\n",
    "import gc\n",
    "gc.collect()\n"
   ]
  },
  {
   "cell_type": "code",
   "execution_count": 314,
   "metadata": {},
   "outputs": [
    {
     "name": "stdout",
     "output_type": "stream",
     "text": [
      "\"<module 'gc'>\"\n",
      "['__class__', '__name__', 'collect', 'disable', 'enable', 'isenabled', 'mem_alloc', 'mem_free', 'threshold']\n",
      "\n",
      "object <module 'gc'> is of type module\n",
      "  __name__ -- gc\n",
      "  collect -- <function>\n",
      "  disable -- <function>\n",
      "  enable -- <function>\n",
      "  isenabled -- <function>\n",
      "  mem_free -- <function>\n",
      "  mem_alloc -- <function>\n",
      "  threshold -- <function>\n",
      "\n",
      "{'esp': <module 'esp'>, 'nw': <module 'main.network' from 'main/network.py'>, '_boot': <module '_boot' from '_boot.py'>, 'gc': <module 'gc'>, 'json': <module 'ujson'>, 'unique_id': <function>, 'sys': <module 'sys'>, 'bdev': <Partition type=1, subtype=129, address=3211264, size=983040, label=vfs, encrypted=0>, 'secrets': <module 'secrets'>, '__name__': '__main__', 'os': <module 'uos'>, 'webrepl': <module 'webrepl' from 'webrepl.py'>, 'esp32': <module 'esp32'>, 'builtins': <module 'builtins'>, 'uos': <module 'uos'>}\n",
      ">>> "
     ]
    }
   ],
   "source": [
    "repr(gc)\n",
    "dir(gc)\n",
    "print()\n",
    "help(gc)\n",
    "print()\n",
    "locals()"
   ]
  },
  {
   "cell_type": "code",
   "execution_count": 316,
   "metadata": {},
   "outputs": [
    {
     "name": "stdout",
     "output_type": "stream",
     "text": [
      "{'esp': <module 'esp'>, 'nw': <module 'main.network' from 'main/network.py'>, '_boot': <module '_boot' from '_boot.py'>, 'gc': <module 'gc'>, 'json': <module 'ujson'>, 'unique_id': <function>, 'sys': <module 'sys'>, 'bdev': <Partition type=1, subtype=129, address=3211264, size=983040, label=vfs, encrypted=0>, 'secrets': <module 'secrets'>, '__name__': '__main__', 'os': <module 'uos'>, 'webrepl': <module 'webrepl' from 'webrepl.py'>, 'esp32': <module 'esp32'>, 'builtins': <module 'builtins'>, 'uos': <module 'uos'>}\n",
      "{'esp': <module 'esp'>, 'nw': <module 'main.network' from 'main/network.py'>, '_boot': <module '_boot' from '_boot.py'>, 'gc': <module 'gc'>, 'json': <module 'ujson'>, 'unique_id': <function>, 'sys': <module 'sys'>, 'bdev': <Partition type=1, subtype=129, address=3211264, size=983040, label=vfs, encrypted=0>, 'secrets': <module 'secrets'>, '__name__': '__main__', 'os': <module 'uos'>, 'webrepl': <module 'webrepl' from 'webrepl.py'>, 'esp32': <module 'esp32'>, 'builtins': <module 'builtins'>, 'uos': <module 'uos'>}\n",
      ">>> "
     ]
    }
   ],
   "source": [
    "locals()\n",
    "import gc\n",
    "gc.collect()\n",
    "locals()"
   ]
  },
  {
   "cell_type": "code",
   "execution_count": 76,
   "metadata": {},
   "outputs": [
    {
     "name": "stdout",
     "output_type": "stream",
     "text": [
      "<Partition type=0, subtype=16, address=65536, size=1572864, label=ota_0, encrypted=0>\n"
     ]
    }
   ],
   "source": [
    "from esp32 import Partition\n",
    "import gc\n",
    "\n",
    "currentPartition = Partition(Partition.RUNNING)\n",
    "print(currentPartition)"
   ]
  },
  {
   "cell_type": "code",
   "execution_count": 77,
   "metadata": {},
   "outputs": [
    {
     "name": "stdout",
     "output_type": "stream",
     "text": [
      "\n",
      "<Partition type=0, subtype=17, address=1638400, size=1572864, label=ota_1, encrypted=0>\n",
      "(0, 17, 1638400, 1572864, 'ota_1', False)"
     ]
    }
   ],
   "source": [
    "nextPartition = currentPartition.get_next_update()\n",
    "print(nextPartition)\n",
    "print(nextPartition.info())\n"
   ]
  },
  {
   "cell_type": "code",
   "execution_count": 74,
   "metadata": {},
   "outputs": [
    {
     "name": "stdout",
     "output_type": "stream",
     "text": [
      ">>> "
     ]
    }
   ],
   "source": [
    "# https://github.com/tve/mqboard/blob/master/mqrepl/mqrepl.py#L22-L84\n",
    "Partition.set_boot(nextPartition)"
   ]
  },
  {
   "cell_type": "code",
   "execution_count": 75,
   "metadata": {},
   "outputs": [
    {
     "name": "stdout",
     "output_type": "stream",
     "text": [
      "ets Jun  8 2016 00:22:57\n",
      "\n",
      "rst:0xc (SW_CPU_RESET),boot:0x13 (SPI_FAST_FLASH_BOOT)\n",
      "configsip: 0, SPIWP:0xee\n",
      "clk_drv:0x00,q_drv:0x00,d_drv:0x00,cs0_drv:0x00,hd_drv:0x00,wp_drv:0x00\n",
      "mode:DIO, clock div:2\n",
      "load:0x3fff0030,len:5440\n",
      "load:0x40078000,len:14404\n",
      "ho 0 tail 12 room 4\n",
      "load:0x40080400,len:3456\n",
      "entry 0x40080638\n",
      "MicroPython v1.17-dirty on 2021-10-11; 4MB/OTA module with ESP32\n",
      "Type \"help()\" for more information."
     ]
    }
   ],
   "source": [
    "import machine\n",
    "machine.reset()"
   ]
  },
  {
   "cell_type": "markdown",
   "metadata": {},
   "source": [
    "## OTA"
   ]
  },
  {
   "cell_type": "code",
   "execution_count": 139,
   "metadata": {},
   "outputs": [
    {
     "name": "stdout",
     "output_type": "stream",
     "text": [
      "Booted from ota_0\n",
      "Block No. 0 copied\n",
      "Block No. 20 copied\n",
      "Block No. 40 copied\n",
      "Block No. 60 copied\n",
      "Block No. 80 copied\n",
      "Block No. 100 copied\n",
      "Block No. 120 copiedBlock No. 140 copied\n",
      "Block No. 160 copied\n",
      "Block No. 180 copied\n",
      "Block No. 200 copied\n",
      "Block No. 220 copied\n",
      "Block No. 240 copied\n",
      "Block No. 260 copied\n",
      "Block No. 280 copiedBlock No. 300 copied\n",
      "Block No. 320 copied\n",
      "Block No. 340 copied\n",
      "Block No. 360 copied\n",
      "Block No. 380 copied\n",
      "Partition copied hash b'508f16cc4a37531f51a5cc558ac420fefcbdf2a15d53be0e10d86aa2a55e304a'\n",
      "Traceback (most recent call last):\n",
      "  File \"<stdin>\", line 24, in <module>\n",
      "NameError: name 'netPartition' isn't defined\n",
      ">>> "
     ]
    }
   ],
   "source": [
    "from esp32 import Partition\n",
    "from machine import reset\n",
    "from hashlib import sha256\n",
    "from binascii import hexlify\n",
    "\n",
    "currentPartition = Partition(Partition.RUNNING)\n",
    "nextPartition = currentPartition.get_next_update()\n",
    "\n",
    "print(\"Booted from\", currentPartition.info()[4])\n",
    "\n",
    "sha = sha256()\n",
    "\n",
    "SEC_SIZE = 4096\n",
    "buf = bytearray(SEC_SIZE)\n",
    "for i in range(0, currentPartition.info()[3] // SEC_SIZE):\n",
    "    sha.update(buf)\n",
    "    currentPartition.readblocks(i, buf)\n",
    "    nextPartition.writeblocks(i, buf)\n",
    "    if i % 20 == 0:\n",
    "        print('Block No. ' + str(i) + ' copied')\n",
    "    gc.collect()\n",
    "    \n",
    "print('Partition copied', 'hash', hexlify(sha.digest()))\n",
    "print('Switching from', currentPartition.info()[4] ,'to', nextPartition.info()[4])\n",
    "\n",
    "Partition.set_boot(nextPartition)\n",
    "reset()"
   ]
  },
  {
   "cell_type": "code",
   "execution_count": 93,
   "metadata": {},
   "outputs": [
    {
     "name": "stdout",
     "output_type": "stream",
     "text": [
      "Booted from <Partition type=0, subtype=17, address=1638400, size=1572864, label=ota_1, encrypted=0>\n"
     ]
    }
   ],
   "source": [
    "from esp32 import Partition\n",
    "from machine import reset\n",
    "\n",
    "currentPartition = Partition(Partition.RUNNING)\n",
    "nextPartition = currentPartition.get_next_update()\n",
    "\n",
    "print(\"Booted from\", currentPartition)"
   ]
  },
  {
   "cell_type": "markdown",
   "metadata": {},
   "source": [
    "### Rollback"
   ]
  },
  {
   "cell_type": "code",
   "execution_count": null,
   "metadata": {},
   "outputs": [],
   "source": [
    "# Stop rollback if enabled\n",
    "esp32.Partition.mark_app_valid_cancel_rollback()"
   ]
  },
  {
   "cell_type": "code",
   "execution_count": 55,
   "metadata": {},
   "outputs": [
    {
     "data": {
      "text/plain": [
       "[<Partition type=1, subtype=2, address=36864, size=16384, label=nvs, encrypted=0>, <Partition type=1, subtype=0, address=53248, size=8192, label=otadata, encrypted=0>, <Partition type=1, subtype=1, address=61440, size=4096, label=phy_init, encrypted=0>, <Partition type=1, subtype=129, address=3211264, size=983040, label=vfs, encrypted=0>]\n"
      ]
     },
     "execution_count": 55,
     "metadata": {},
     "output_type": "execute_result"
    }
   ],
   "source": [
    "esp32.Partition.find(type=esp32.Partition.TYPE_DATA)"
   ]
  },
  {
   "cell_type": "code",
   "execution_count": 49,
   "metadata": {},
   "outputs": [
    {
     "data": {
      "text/plain": [
       "<Partition type=0, subtype=16, address=65536, size=1572864, label=ota_0, encrypted=0>\n"
      ]
     },
     "execution_count": 49,
     "metadata": {},
     "output_type": "execute_result"
    }
   ],
   "source": [
    "esp32.Partition(esp32.Partition.BOOT)"
   ]
  },
  {
   "cell_type": "code",
   "execution_count": 50,
   "metadata": {},
   "outputs": [
    {
     "data": {
      "text/plain": [
       "<Partition type=0, subtype=16, address=65536, size=1572864, label=ota_0, encrypted=0>\n"
      ]
     },
     "execution_count": 50,
     "metadata": {},
     "output_type": "execute_result"
    }
   ],
   "source": [
    "esp32.Partition(esp32.Partition.RUNNING)"
   ]
  },
  {
   "cell_type": "code",
   "execution_count": 54,
   "metadata": {},
   "outputs": [
    {
     "name": "stdout",
     "output_type": "stream",
     "text": [
      "stack: 720 out of 15360GC: total: 64000, used: 3104, free: 60896\n",
      " No. of 1-blocks: 46, 2-blocks: 17, max blk sz: 18, max free sz: 3443\n",
      "[(7288, 372, 8, 124), (16648, 4468, 4096, 152), (89960, 3400, 2048, 3400), (15072, 13448, 8192, 13448), (113840, 112216, 65536, 112216)]\n",
      ">>> "
     ]
    }
   ],
   "source": [
    "import micropython\n",
    "micropython.mem_info()\n",
    "esp32.idf_heap_info(esp32.HEAP_DATA)"
   ]
  },
  {
   "cell_type": "code",
   "execution_count": 64,
   "metadata": {},
   "outputs": [
    {
     "name": "stdout",
     "output_type": "stream",
     "text": [
      "[<Partition type=0, subtype=16, address=65536, size=1572864, label=ota_0, encrypted=0>, <Partition type=0, subtype=17, address=1638400, size=1572864, label=ota_1, encrypted=0>]\n",
      "[<Partition type=1, subtype=2, address=36864, size=16384, label=nvs, encrypted=0>, <Partition type=1, subtype=0, address=53248, size=8192, label=otadata, encrypted=0>, <Partition type=1, subtype=1, address=61440, size=4096, label=phy_init, encrypted=0>, <Partition type=1, subtype=129, address=3211264, size=983040, label=vfs, encrypted=0>]\n",
      "\n"
     ]
    }
   ],
   "source": [
    "import esp32\n",
    "#esp32.Partition(\n",
    "esp32.Partition.find(type=esp32.Partition.TYPE_APP)\n",
    "esp32.Partition.find(type=esp32.Partition.TYPE_DATA)\n",
    "#factory = Partition('factory')\n",
    "#Partition.set_boot(factory)\n",
    "#reset()"
   ]
  },
  {
   "cell_type": "markdown",
   "metadata": {},
   "source": [
    "## NVS"
   ]
  },
  {
   "cell_type": "code",
   "execution_count": 43,
   "metadata": {},
   "outputs": [
    {
     "name": "stdout",
     "output_type": "stream",
     "text": [
      ">>> \n",
      ">>>"
     ]
    }
   ],
   "source": [
    "import esp32\n",
    "nvs = esp32.NVS(\"c4c\")\n",
    "nvs.set_blob(\"test\", bytes([0x01, 0x02, 0xEE, 0xFF, 0x44]))\n",
    "nvs.commit()"
   ]
  },
  {
   "cell_type": "code",
   "execution_count": 141,
   "metadata": {},
   "outputs": [
    {
     "name": "stdout",
     "output_type": "stream",
     "text": [
      "Traceback (most recent call last):\n",
      "  File \"<stdin>\", line 5, in <module>\n",
      "OSError: (-4354, 'ESP_ERR_NVS_NOT_FOUND')"
     ]
    }
   ],
   "source": [
    "import esp32\n",
    "from binascii import hexlify\n",
    "nvs = esp32.NVS(\"config\")\n",
    "a = bytearray(44)\n",
    "length = nvs.get_blob(\"test\", a)\n",
    "b = a[0:length]\n",
    "print(hexlify(b))\n",
    "nvs.erase_key(\"test\")"
   ]
  },
  {
   "cell_type": "code",
   "execution_count": 239,
   "metadata": {},
   "outputs": [
    {
     "name": "stdout",
     "output_type": "stream",
     "text": [
      "b'0102eeff44'\n",
      "119\n",
      "119 bytearray(b'{\"wifiPSK\": \"melkweggast\", \"host\": \"c4c.lvl-up.dev\", \"tls\": true, \"tls_params\": {}, \"wifiSSID\": \"Stichting De Melkweg\"}')\n",
      "{'wifiPSK': 'melkweggast', 'tls': True, 'tls_params': {}, 'host': 'c4c.lvl-up.dev', 'wifiSSID': 'Stichting De Melkweg'}\n",
      "119\n",
      "(-4354, 'ESP_ERR_NVS_NOT_FOUND')\n",
      "loading default config into NVS {'wifiPSK': 'melkweggast', 'host': 'c4c.lvl-up.dev', 'tls': True, 'tls_params': {}, 'wifiSSID': 'Stichting De Melkweg'}\n",
      "Committing:  config 119 \n",
      " {\"wifiPSK\": \"melkweggast\", \"host\": \"c4c.lvl-up.dev\", \"tls\": true, \"tls_params\": {}, \"wifiSSID\": \"Stichting De Melkweg\"}Traceback (most recent call last):\n",
      "  File \"<stdin>\", line 92, in <module>\n",
      "  File \"<stdin>\", line 62, in __init__\n",
      "  File \"<stdin>\", line 53, in __init__\n",
      "OSError: (-4354, 'ESP_ERR_NVS_NOT_FOUND')\n",
      "\n",
      ">>>"
     ]
    }
   ],
   "source": [
    "# from esp32 import NVS\n",
    "from binascii import hexlify\n",
    "\n",
    "lvl = NVS('lvlup')\n",
    "lvl.set_blob(\"test\", bytes([0x01, 0x02, 0xEE, 0xFF, 0x44]))\n",
    "lvl.commit()\n",
    "s = bytearray(256)\n",
    "l = lvl.get_blob(\"test\", s)\n",
    "b = s[0:l]\n",
    "print(hexlify(b))\n",
    "\n",
    "config = {\n",
    "    'wifiSSID': 'Stichting De Melkweg',\n",
    "    'wifiPSK': 'melkweggast',\n",
    "    'host': 'c4c.lvl-up.dev',\n",
    "    'tls': True,\n",
    "    'tls_params': {},\n",
    "}\n",
    "\n",
    "import json\n",
    "sconfig = json.dumps(config)\n",
    "lconfig = len(sconfig)\n",
    "lvl.set_blob('config', sconfig)\n",
    "lvl.set_i32('config_length',lconfig)\n",
    "lvl.commit()\n",
    "l = lvl.get_i32('config_length')\n",
    "s = bytearray(l)\n",
    "lvl.get_blob(\"config\", s)\n",
    "b = s[0:l]\n",
    "print(l, b)\n",
    "obj = json.loads(b)\n",
    "print(obj)\n",
    "lvl.erase_key('config')\n",
    "\n"
   ]
  },
  {
   "cell_type": "code",
   "execution_count": 273,
   "metadata": {},
   "outputs": [
    {
     "name": "stdout",
     "output_type": "stream",
     "text": [
      ">>> "
     ]
    }
   ],
   "source": [
    "from esp32 import NVS\n",
    "import json\n",
    "\n",
    "class Config(NVS):\n",
    "    namespace = 'lvlup'\n",
    "    json_key = 'config'\n",
    "    json_length_key = 'config_length'\n",
    "    __config = {}\n",
    "    \n",
    "    config_file = '/config/default.json'\n",
    "    \n",
    "    default_config = {\n",
    "        'wifiSSID': 'Stichting De Melkweg',\n",
    "        'wifiPSK': 'melkweggast',\n",
    "        'server': 'c4c.lvl-up.dev',\n",
    "        'tls': True,\n",
    "        'tls_params': {},\n",
    "    }\n",
    "    \n",
    "    def __init__(self, config=None):\n",
    "        super().__init__(self.namespace)\n",
    "        config = config if config else self.default_config\n",
    "        self.__config.update(config)\n",
    "        try:\n",
    "            self.__config.update(self.from_file())\n",
    "        except Exception as e:\n",
    "            print('Couldnt load json file:\\n', e)\n",
    "        \n",
    "        try:\n",
    "           self.__config.update(self.load_NVS())\n",
    "        except Exception as e:\n",
    "            print('Couldnt load NVS:\\n', e)\n",
    "        \n",
    "        self.commit()\n",
    "        \n",
    "    def load_NVS(self):\n",
    "        clength = self.get_i32(self.json_length_key)\n",
    "\n",
    "        barr = bytearray(clength)\n",
    "        lread = self.get_blob(self.json_key, barr)\n",
    "\n",
    "        if lread != clength:\n",
    "            print(lread, clength, 'do not match')\n",
    "            raise Exception()\n",
    "\n",
    "        return json.loads(barr)\n",
    "    \n",
    "    def from_NVS(self):\n",
    "        clength = self.get_i32(self.json_length_key)\n",
    "\n",
    "        barr = bytearray(clength)\n",
    "        lread = self.get_blob(self.json_key, barr)\n",
    "\n",
    "        if lread != clength:\n",
    "            print(lread, clength, 'do not match')\n",
    "            raise Exception()\n",
    "\n",
    "        self.__config = json.loads(barr)\n",
    "    \n",
    "    def to_NVS(self):\n",
    "        self.commit()\n",
    "\n",
    "    def from_file(self):\n",
    "        with open(self.config_file, 'r') as f:\n",
    "            print('loading config file', self.config_file)\n",
    "            cfg = f.read()\n",
    "            return json.loads(cfg)\n",
    "        \n",
    "    def load_file(self, autocommit=False):\n",
    "        self.__config = from_file()\n",
    "        if autocommit:\n",
    "            self.commit()\n",
    "    \n",
    "    def to_file(self, config):\n",
    "        with open(self.config_file, 'w+') as f:\n",
    "            print('storing config file', self.config_file)\n",
    "            json.dump(config, f)\n",
    "    \n",
    "    def store_file(self):\n",
    "        self.to_file(self.config)\n",
    "        \n",
    "    @property\n",
    "    def config(self):\n",
    "        return self.__config\n",
    "    \n",
    "    @config.setter\n",
    "    def config(self, config):\n",
    "        self.__config = config\n",
    "    \n",
    "    @property\n",
    "    def keys(self):\n",
    "        return self.config.keys()\n",
    "    \n",
    "    def commit(self, config=None):\n",
    "        config = config if config else self.config\n",
    "        jconfig = json.dumps(config)\n",
    "        lconfig = len(jconfig)\n",
    "        print('Committing: ', self.json_key, lconfig, '\\n', jconfig)\n",
    "        self.set_blob(self.json_key, jconfig)\n",
    "        self.set_i32(self.json_length_key,lconfig)\n",
    "        super().commit()"
   ]
  },
  {
   "cell_type": "code",
   "execution_count": null,
   "metadata": {},
   "outputs": [],
   "source": [
    "#cfg.erase_key('config')\n",
    "cfg = Config()\n",
    "cfg.config"
   ]
  },
  {
   "cell_type": "markdown",
   "metadata": {},
   "source": [
    "## Certs (TLS)\n",
    "\n",
    "__MQTT TLS__ \n",
    "- _What are the MQTT TLS parameters?_\n",
    "- _Why only a ca.crt?_\n",
    "- - _Why does ```peer``` carry __client.key__ and __client.crt__?_"
   ]
  },
  {
   "cell_type": "markdown",
   "metadata": {},
   "source": [
    "### ca.crt\n",
    "```\n",
    "-----BEGIN CERTIFICATE-----\n",
    "MIIDazCCAlOgAwIBAgIUfilX7HPl+FRsnuBiqHrNJEIg6Y8wDQYJKoZIhvcNAQEL\n",
    "BQAwRTELMAkGA1UEBhMCQVUxEzARBgNVBAgMClNvbWUtU3RhdGUxITAfBgNVBAoM\n",
    "GEludGVybmV0IFdpZGdpdHMgUHR5IEx0ZDAeFw0yMTEwMTYxNjM4MjBaFw0yNjEw\n",
    "MTYxNjM4MjBaMEUxCzAJBgNVBAYTAkFVMRMwEQYDVQQIDApTb21lLVN0YXRlMSEw\n",
    "HwYDVQQKDBhJbnRlcm5ldCBXaWRnaXRzIFB0eSBMdGQwggEiMA0GCSqGSIb3DQEB\n",
    "AQUAA4IBDwAwggEKAoIBAQC5G4q69uOHL0uFKgoZxqlcYfqKvXw4qWF4yy8Ka3cQ\n",
    "FQPws8GY1eryhb+dlWf/aY7MSXuJ/ppilRn7GR8thqHBLKlm8U+ZkqF21uZ8178d\n",
    "f8QdBtgn18dmv7sQIOhAW8i7kqVEdVfHGEmkuFmjeCP9KypXnaTWi1wAmz+HStL0\n",
    "O7dM0OxIzlnvfTgxr5G62v6PGEqlHJdP57akmOVlX50Cht83mg/SFbwRYEbLWz60\n",
    "gHWed263Zft9XdGyaUeSvx/oJpIlKo3aRChfOsCICa/fcNnLq98PBG9JY+A5dKCE\n",
    "0NA63DvNauFGUkkM2VmSlcei/m5v9CJRkyVN0eLhZJ75AgMBAAGjUzBRMB0GA1Ud\n",
    "DgQWBBTgkvjwsvddDd8TAxCTi0eyeffgdDAfBgNVHSMEGDAWgBTgkvjwsvddDd8T\n",
    "AxCTi0eyeffgdDAPBgNVHRMBAf8EBTADAQH/MA0GCSqGSIb3DQEBCwUAA4IBAQCf\n",
    "WeDpXMavokDvixQFJ3HfjN5jlmE4dc5CqWU0+o5yshpD8bWPKbO0svYkc/Uy4ttd\n",
    "yKnunIUtynnPyW+t1yWvSlB7EVTdsl5wKbYf8VfdYQVdCH1NLbNtMqyK67gH3xP+\n",
    "LOvP+Sag0tK5rfZL7PQx2oPriNYEo4KZ25gDqKuAnizmUHkmQ2jLFejs7NrmQUIj\n",
    "/HFTDp6pYQdJBKjnYIpbMjWx1LlXLCIx7iDLWv1fSxJR3dUxGJthR9B3JqNqM41M\n",
    "J7+QeKN2oLFg3eYzjBBNMs9KzPLVKVbGqyKjv1YR4dtM1yksyuLK3DaRO1Szl9Kg\n",
    "7gwX59TquLGl+XzwUBjE\n",
    "-----END CERTIFICATE-----\n",
    "```"
   ]
  },
  {
   "cell_type": "markdown",
   "metadata": {},
   "source": [
    "## uasyncio\n"
   ]
  },
  {
   "cell_type": "code",
   "execution_count": 324,
   "metadata": {},
   "outputs": [
    {
     "name": "stdout",
     "output_type": "stream",
     "text": [
      ">>> "
     ]
    }
   ],
   "source": [
    "import uasyncio\n",
    "\n",
    "async def blink(led, period_ms):\n",
    "    while True:\n",
    "        led.on()\n",
    "        await uasyncio.sleep_ms(5)\n",
    "        led.off()\n",
    "        await uasyncio.sleep_ms(period_ms)\n",
    "\n",
    "async def main(led):\n",
    "    uasyncio.create_task(blink(led, 700))\n",
    "    await uasyncio.sleep_ms(5000)\n",
    "\n",
    "\n",
    "from machine import Pin\n",
    "uasyncio.run(main(Pin(4, Pin.OUT)))\n",
    "#from time import sleep\n",
    "#sleep(5)"
   ]
  },
  {
   "cell_type": "code",
   "execution_count": 325,
   "metadata": {},
   "outputs": [
    {
     "name": "stdout",
     "output_type": "stream",
     "text": [
      ">>> "
     ]
    }
   ],
   "source": [
    "import machine, neopixel\n",
    "from random import randrange\n",
    "\n",
    "n = 1\n",
    "p = 5\n",
    "\n",
    "np = neopixel.NeoPixel(machine.Pin(p), 5)\n",
    "\n",
    "np[0] = (randrange(256), randrange(256), randrange(256))\n",
    "np[1] = (randrange(256), randrange(256), randrange(256))\n",
    "np[2] = (randrange(256), randrange(256), randrange(256))\n",
    "np[3] = (randrange(256), randrange(256), randrange(256))\n",
    "np[4] = (randrange(256), randrange(256), randrange(256))\n",
    "np.write()"
   ]
  },
  {
   "cell_type": "code",
   "execution_count": 327,
   "metadata": {},
   "outputs": [
    {
     "name": "stdout",
     "output_type": "stream",
     "text": [
      "__init__ <StatusLeds object at 3ffd64f0>\n",
      "main: Anim 0\n",
      "main: Anim 1\n",
      "main: Anim 2\n",
      "main: Anim 3\n",
      "main: Anim 4\n",
      ">>> "
     ]
    }
   ],
   "source": [
    "import machine, neopixel\n",
    "import uasyncio\n",
    "\n",
    "class Color:\n",
    "    BLACK = (0,0,0)\n",
    "    RED = (255, 0, 0)\n",
    "    GREEN = (0, 255, 0)\n",
    "    BLUE = (0, 0, 255)\n",
    "    \n",
    "class Anims:\n",
    "    np = None\n",
    "    index = None\n",
    "    color = None\n",
    "    task = None\n",
    "    def __init__(self, np, index, color, anim):\n",
    "        self.np = np\n",
    "        self.index = index\n",
    "        self.color = color\n",
    "        self.task = uasyncio.create_task(anim(self))\n",
    "    \n",
    "    #async def run(self, anim=self.solid):\n",
    "    #    self.task = uasyncio.create_task(anim(self))\n",
    "    \n",
    "    async def cancel(self):\n",
    "        await self.task.cancel()\n",
    "        \n",
    "    def color(self, color):\n",
    "        self.color = color\n",
    "      \n",
    "    @classmethod\n",
    "    async def SOLID(cls, self):\n",
    "        print(\"writing color\", self.color, \"on index\", self.index)\n",
    "        self.np[self.index] = self.color\n",
    "        print(\"writing to\", self.np)\n",
    "        self.np.write()\n",
    "        \n",
    "    @classmethod\n",
    "    async def BLINK(cls, self):\n",
    "        while True:\n",
    "            self.np[self.index] = self.color\n",
    "            self.np.write()\n",
    "            await uasyncio.sleep_ms(500)\n",
    "            self.np[self.index] = Color.BLACK\n",
    "            self.np.write()\n",
    "            await uasyncio.sleep_ms(500)\n",
    "\n",
    "class StatusLeds(object):\n",
    "    amount = 0\n",
    "    np = None\n",
    "    anims = {}\n",
    "    \n",
    "    def __init__(self, pin, amount=5):\n",
    "        self.amount = amount\n",
    "        self.np = neopixel.NeoPixel(machine.Pin(pin), self.amount)\n",
    "        print(\"__init__\", self)\n",
    "        \n",
    "    async def main(self):\n",
    "        for i in range(0, self.amount):\n",
    "            print(\"main: Anim\", i)\n",
    "            self.anims[i] = Anims(self.np, i, Color.RED, Anims.BLINK)\n",
    "        await uasyncio.sleep_ms(5000)\n",
    "    \n",
    "    async def status(led, color, anim):\n",
    "        anims[led].cancel()\n",
    "        anims[i] = Anims(self.np, led, color, anim)\n",
    "        \n",
    "sl = StatusLeds(5,5)\n",
    "uasyncio.run(sl.main())\n",
    "    "
   ]
  },
  {
   "cell_type": "code",
   "execution_count": 135,
   "metadata": {},
   "outputs": [
    {
     "name": "stdout",
     "output_type": "stream",
     "text": [
      "ets Jun  8 2016 00:22:57\n",
      "\n",
      "rst:0xc (SW_CPU_RESET),boot:0x13 (SPI_FAST_FLASH_BOOT)\n",
      "configsip: 0, SPIWP:0xee\n",
      "clk_drv:0x00,q_drv:0x00,d_drv:0x00,cs0_drv:0x00,hd_drv:0x00,wp_drv:0x00\n",
      "mode:DIO, clock div:2\n",
      "load:0x3fff0030,len:5440\n",
      "load:0x40078000,len:14404\n",
      "ho 0 tail 12 room 4\n",
      "load:0x40080400,len:3456\n",
      "entry 0x40080638\n",
      "MicroPython v1.17-dirty on 2021-10-11; 4MB/OTA module with ESP32\n",
      "Type \"help()\" for more information."
     ]
    }
   ],
   "source": [
    "from machine import reset\n",
    "reset()"
   ]
  },
  {
   "cell_type": "code",
   "execution_count": 100,
   "metadata": {},
   "outputs": [
    {
     "name": "stdout",
     "output_type": "stream",
     "text": [
      "b'587e61c12249c2796c1ecca1233e1f88758d3aa6'\n",
      ">>> "
     ]
    }
   ],
   "source": [
    "from hashlib import sha256\n",
    "from hashlib import sha1\n",
    "from binascii import hexlify\n",
    "\n",
    "data = bytearray([0x55, 0x00, 0x27, 0x02, 0x01, 0x24, 0x06, 0x05, 0x00, 0x00, 0x00, 0x00, 0x00, 0xB4, 0x00, 0x00, 0x00, 0x00, 0x00, 0x00, 0x00, 0x00, 0x00, 0x00, 0x00, 0x00, 0x00, 0x00, 0x00, 0x00, 0x00, 0x00, 0x00, 0x00, 0x00, 0x00, 0x00, 0x00, 0x00, 0x00, 0x00, 0x00, 0xE6, 0xAA])\n",
    "#sha256 = sha256(data)\n",
    "sha1 = sha1(data)\n",
    "\n",
    "#print(sha256.digest())\n",
    "print(hexlify(sha1.digest()))\n"
   ]
  },
  {
   "cell_type": "code",
   "execution_count": 278,
   "metadata": {},
   "outputs": [
    {
     "name": "stdout",
     "output_type": "stream",
     "text": [
      ">>> \n",
      ">>>"
     ]
    }
   ],
   "source": [
    "import sys; sys.path.append('/main/lib'); sys.path.append('/main')\n",
    "from mqtt_as.mqtt_as import MQTTClient"
   ]
  },
  {
   "cell_type": "markdown",
   "metadata": {},
   "source": [
    "## Inspect"
   ]
  },
  {
   "cell_type": "code",
   "execution_count": null,
   "metadata": {},
   "outputs": [],
   "source": [
    "import upip\n",
    "upip.install('micropython-inspect')"
   ]
  },
  {
   "cell_type": "code",
   "execution_count": 347,
   "metadata": {},
   "outputs": [
    {
     "name": "stdout",
     "output_type": "stream",
     "text": [
      "object <function getsource at 0x3ffd0dd0> is of type function\n",
      "['__class__', '__name__', '__globals__']\n",
      "'<function getsource at 0x3ffd0dd0>'\n",
      "\n",
      "globals: \n",
      "{'getmro': <function getmro at 0x3ffd0da0>, '__file__': '/lib/inspect.py', '_Instance': <_Class object at 3ffd0590>, '__name__': 'inspect', 'ismodule': <function ismodule at 0x3ffd0bd0>, 'isgenerator': <function isgenerator at 0x3ffd03e0>, 'getmodule': <function getmodule at 0x3ffd0d50>, 'getfile': <function getfile at 0x3ffd0dc0>, '_Class': <class '_Class'>, 'currentframe': <function currentframe at 0x3ffd0de0>, 'getsourcefile': <function getsourcefile at 0x3ffd0db0>, 'getframeinfo': <function getframeinfo at 0x3ffd1090>, 'ismethod': <function ismethod at 0x3ffd05b0>, 'getmembers': <function getmembers at 0x3ffd03f0>, 'isclass': <function isclass at 0x3ffd08f0>, 'sys': <module 'sys'>, 'isfunction': <function isfunction at 0x3ffd0410>, 'getargspec': <function getargspec at 0x3ffd0be0>, 'isgeneratorfunction': <function isgeneratorfunction at 0x3ffd03d0>, 'getsource': <function getsource at 0x3ffd0dd0>}\n",
      "\n",
      "Traceback (most recent call last):  File \"<stdin>\", line 8, in <module>\n",
      "  File \"/lib/inspect.py\", line 37, in getargspec\n",
      "NotImplementedError: This is over-dynamic function, not supported by MicroPython\n",
      ">>> "
     ]
    }
   ],
   "source": [
    "import sys; sys.path.append('/main/lib'); sys.path.append('/main')\n",
    "import inspect\n",
    "help(inspect.getsource)\n",
    "dir(inspect.getsource)\n",
    "repr(inspect.getsource)\n",
    "print('\\nglobals: \\n{}\\n'.format(inspect.getsource.__globals__))\n",
    "from mqtt_as import mqtt_as \n",
    "inspect.getargspec(mqtt_as.MQTTClient.__init__)"
   ]
  },
  {
   "cell_type": "code",
   "execution_count": null,
   "metadata": {},
   "outputs": [],
   "source": [
    "help(\"modules\")\n",
    "import builtins\n",
    "help(builtins)\n",
    "from stdlib import pickle\n",
    "data = {1:'test', 2:1.414, 3: [11, 12, 13]}\n",
    "s = pickle.dumps(data)\n",
    "print('Human readable data:', s)\n",
    "v = pickle.loads(s)\n",
    "print('Decoded data (partial):', v[3])"
   ]
  },
  {
   "cell_type": "code",
   "execution_count": 195,
   "metadata": {},
   "outputs": [
    {
     "name": "stdout",
     "output_type": "stream",
     "text": [
      "Installing to: /lib/\n",
      "Error installing 'micropython-python-stdlib': Package not found, packages may be partially installed"
     ]
    }
   ],
   "source": [
    "import upip\n",
    "upip.install('micropython-python-stdlib')"
   ]
  },
  {
   "cell_type": "code",
   "execution_count": 186,
   "metadata": {},
   "outputs": [
    {
     "data": {
      "text/markdown": [
       "[google](https://www.google.com)"
      ],
      "text/plain": [
       "<IPython.core.display.Markdown object>"
      ]
     },
     "metadata": {},
     "output_type": "display_data"
    },
    {
     "data": {
      "text/html": [
       "<a href=\"https://google.at\">text</a>"
      ],
      "text/plain": [
       "<IPython.core.display.HTML object>"
      ]
     },
     "metadata": {},
     "output_type": "display_data"
    }
   ],
   "source": [
    "%local\n",
    "from IPython.display import display, Markdown, HTML\n",
    "display(Markdown(\"[google](https://www.google.com)\"))\n",
    "display(HTML(\"\"\"<a href=\"https://google.at\">text</a>\"\"\"))"
   ]
  }
 ],
 "metadata": {
  "kernelspec": {
   "display_name": "MicroPython upydevice kernel",
   "language": "python",
   "name": "micropython-upydevice"
  },
  "language_info": {
   "codemirror_mode": "python",
   "file_extension": ".py",
   "mimetype": "text/x-python",
   "name": "python",
   "pygments_lexer": "python"
  }
 },
 "nbformat": 4,
 "nbformat_minor": 4
}
